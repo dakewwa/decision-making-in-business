{
 "cells": [
  {
   "cell_type": "markdown",
   "metadata": {},
   "source": [
    "<div class=\"alert alert-success\">\n",
    "<b> Комментарий от ревьюера 3</b>\n",
    "\n",
    "Спасибо, что учла мои комментарии. Ты приложила много усилий, чтобы довести проект до конца, надеюсь, что эта работа помогла тебе лучше понять теорию. Я принимаю проект и желаю удачи в прохождении курса!\n",
    "\n",
    "</div>"
   ]
  },
  {
   "cell_type": "markdown",
   "metadata": {},
   "source": [
    "<div class=\"alert alert-success\">\n",
    "<b> Комментарий от ревьюера 2</b>\n",
    "\n",
    "Привет еще раз. Спасибо, что доделала работу. Оформление комментариев по работе сохраняется. Только обозначим, что это вторая итерация. \n",
    "\n",
    "</div>"
   ]
  },
  {
   "cell_type": "markdown",
   "metadata": {},
   "source": [
    "Привет, Даина.\n",
    "\n",
    "Меня зовут Людмила, и я буду проводить ревью твоего проекта. \n",
    "\n",
    "Предлагаю перейти на «ты», если не против)\n",
    "\n",
    "Но если это не удобно — дай знать, и мы перейдем на «вы». Моя главная задача — не находить сделанные тобою ошибки, а передать свой опыт и помочь тебе стать аналитиком данных.\n",
    "\n",
    "Мои комментарии будут в ячейках «Комментарий от ревьюера».\n",
    "\n",
    "---    \n",
    "<div class=\"alert alert-block alert-danger\">\n",
    "    \n",
    "Критическое замечание, которые следует исправить.\n",
    "</div> \n",
    "    \n",
    "<div class=\"alert alert-block alert-warning\">\n",
    "    \n",
    "Замечание\\совет на будущее.\n",
    "</div>\n",
    "    \n",
    "<div class=\"alert alert-block alert-success\">\n",
    "    \n",
    "Когда всё сделано правильно.\n",
    "</div>\n",
    "    \n",
    "---        \n",
    "    \n",
    "Если ты вносишь изменения в проект по моим рекомендациям, указывай, пожалуйста, это в своих комментариях. Будет удобно, если обозначишь свои комментарии заметным цветом или поместишь \n",
    "\n",
    "<div class=\"alert alert-info\">\n",
    "    \n",
    "в такую ячейку\n",
    "</div>\n",
    "\n",
    "Давай при работе с проектом мы будем общаться с тобой в диалоге, поэтому не удаляй и не перемещай мои комментарии, это поможет мне сделать повторную  проверку проекта быстрее.\n",
    "___"
   ]
  },
  {
   "cell_type": "markdown",
   "metadata": {},
   "source": [
    "<div class=\"alert alert-info\"> <b>Комментарий студента:</b> Привет! Спасибо за проверку моего проекта"
   ]
  },
  {
   "cell_type": "markdown",
   "metadata": {},
   "source": [
    "# Проект:Принятие решений в бизнесе\n",
    "\n",
    "В данном проекте мы проведем анализ данных крупного интернет-магазинна. Наша цель - подготовить список гипотез, запусить A/B тест и проанализировать результаты для увеличения выручки."
   ]
  },
  {
   "cell_type": "markdown",
   "metadata": {},
   "source": [
    "<div class=\"alert alert-warning\">\n",
    "<b>Комментарий от ревьюера</b> \n",
    "    \n",
    "Вступление к проекту станет лучше, если ты добавишь описание данных и план работы.\n",
    "Тогда получатель исследования сможет быстрее его понять.\n",
    "\n",
    "</div>"
   ]
  },
  {
   "cell_type": "markdown",
   "metadata": {},
   "source": [
    "<div class=\"alert alert-info\"> <b>Комментарий студента:</b> Поняла. Добавляю ниже"
   ]
  },
  {
   "cell_type": "markdown",
   "metadata": {},
   "source": [
    "## Описание данных\n",
    "### Файл hypothesis.csv:\n",
    "* Hypothesis — краткое описание гипотезы;\n",
    "* Reach — охват пользователей по 10-балльной шкале;\n",
    "* Impact — влияние на пользователей по 10-балльной шкале;\n",
    "* Confidence — уверенность в гипотезе по 10-балльной шкале;\n",
    "* Efforts — затраты ресурсов на проверку гипотезы по 10-балльной шкале. Чем больше значение Efforts, тем дороже проверка гипотезы.\n",
    "\n",
    "### Файл orders.csv:\n",
    "\n",
    "* transactionId — идентификатор заказа;\n",
    "* visitorId — идентификатор пользователя, совершившего заказ;\n",
    "* date — дата, когда был совершён заказ;\n",
    "* revenue — выручка заказа;\n",
    "* group — группа A/B-теста, в которую попал заказ.\n",
    "\n",
    "### Файл visitors.csv:\n",
    "* date — дата;\n",
    "* group — группа A/B-теста;\n",
    "* visitors — количество пользователей в указанную дату в указанной группе A/B-теста"
   ]
  },
  {
   "cell_type": "markdown",
   "metadata": {},
   "source": [
    "## План работы\n",
    "### Произвести приоритизацию гипотез, используя фреймворки ICE и RICE и уже присвоенные гипотезам параметры. Установить, какие из гипотез рекомендуется протестировать в первую очередь\n",
    "### Обработать данные А/В-тестирования:\n",
    "* Сделать вывод по результатам тестирования\n",
    "* Дать рекомендацию относительно дальнейших действий в рамках тестирования (продолжить тест или остановить)"
   ]
  },
  {
   "cell_type": "markdown",
   "metadata": {},
   "source": [
    "### Часть 1. Приоритизация гипотез."
   ]
  },
  {
   "cell_type": "code",
   "execution_count": 1,
   "metadata": {},
   "outputs": [],
   "source": [
    "#импортируем нужные нам библиотеки для дальнейшей работы\n",
    "import pandas as pd\n",
    "import matplotlib.pyplot as plt\n",
    "import seaborn as sns\n",
    "from scipy import stats as st\n",
    "import math\n",
    "import numpy as np"
   ]
  },
  {
   "cell_type": "markdown",
   "metadata": {},
   "source": [
    "<div class=\"alert alert-warning\">\n",
    "<b>Комментарий от ревьюера:</b> Ты загружаешь scipy.stats 2 раза под разными названиями. Одного будет достаточно.\n",
    "\n",
    "</div>"
   ]
  },
  {
   "cell_type": "markdown",
   "metadata": {},
   "source": [
    "<div class=\"alert alert-info\"> <b>Комментарий студента:</b> Исправлено"
   ]
  },
  {
   "cell_type": "markdown",
   "metadata": {},
   "source": [
    "<div class=\"alert alert-success\">\n",
    "<b> Комментарий от ревьюера 2</b>\n",
    "\n",
    "Отлично, теперь здесь у нас нет ничего лишнего. \n",
    "\n",
    "</div>"
   ]
  },
  {
   "cell_type": "code",
   "execution_count": 2,
   "metadata": {},
   "outputs": [],
   "source": [
    "#загрузим данные и посмотрим общую информацию\n",
    "hypothesis = pd.read_csv('/datasets/hypothesis.csv')\n",
    "orders = pd.read_csv('/datasets/orders.csv')\n",
    "visitors = pd.read_csv('/datasets/visitors.csv')"
   ]
  },
  {
   "cell_type": "code",
   "execution_count": 3,
   "metadata": {},
   "outputs": [
    {
     "name": "stdout",
     "output_type": "stream",
     "text": [
      "<class 'pandas.core.frame.DataFrame'>\n",
      "RangeIndex: 9 entries, 0 to 8\n",
      "Data columns (total 5 columns):\n",
      " #   Column      Non-Null Count  Dtype \n",
      "---  ------      --------------  ----- \n",
      " 0   Hypothesis  9 non-null      object\n",
      " 1   Reach       9 non-null      int64 \n",
      " 2   Impact      9 non-null      int64 \n",
      " 3   Confidence  9 non-null      int64 \n",
      " 4   Efforts     9 non-null      int64 \n",
      "dtypes: int64(4), object(1)\n",
      "memory usage: 488.0+ bytes\n",
      "None\n",
      "<class 'pandas.core.frame.DataFrame'>\n",
      "RangeIndex: 1197 entries, 0 to 1196\n",
      "Data columns (total 5 columns):\n",
      " #   Column         Non-Null Count  Dtype \n",
      "---  ------         --------------  ----- \n",
      " 0   transactionId  1197 non-null   int64 \n",
      " 1   visitorId      1197 non-null   int64 \n",
      " 2   date           1197 non-null   object\n",
      " 3   revenue        1197 non-null   int64 \n",
      " 4   group          1197 non-null   object\n",
      "dtypes: int64(3), object(2)\n",
      "memory usage: 46.9+ KB\n",
      "None\n",
      "<class 'pandas.core.frame.DataFrame'>\n",
      "RangeIndex: 62 entries, 0 to 61\n",
      "Data columns (total 3 columns):\n",
      " #   Column    Non-Null Count  Dtype \n",
      "---  ------    --------------  ----- \n",
      " 0   date      62 non-null     object\n",
      " 1   group     62 non-null     object\n",
      " 2   visitors  62 non-null     int64 \n",
      "dtypes: int64(1), object(2)\n",
      "memory usage: 1.6+ KB\n",
      "None\n"
     ]
    }
   ],
   "source": [
    "print(hypothesis.info())\n",
    "print(orders.info())\n",
    "print(visitors.info())"
   ]
  },
  {
   "cell_type": "code",
   "execution_count": 4,
   "metadata": {},
   "outputs": [
    {
     "name": "stdout",
     "output_type": "stream",
     "text": [
      "Дубликатов в датасете hypothesis: 0\n",
      "Дубликатов в датасете orders: 0\n",
      "Дубликатов в датасете visitors: 0\n"
     ]
    }
   ],
   "source": [
    "#преобразуем столбцы в нужный тип данных и приведем название столбцов к нижнему регистру\n",
    "orders['date'] = pd.to_datetime(orders['date'])\n",
    "visitors['date'] = pd.to_datetime(visitors['date'])\n",
    "\n",
    "hypothesis.columns = hypothesis.columns.str.lower().str.replace(' ', '_')\n",
    "orders.columns = orders.columns.str.lower().str.replace(' ', '_')\n",
    "visitors.columns = visitors.columns.str.lower().str.replace(' ', '_')\n",
    "\n",
    "#проверим на дубликаты\n",
    "duplicates_hypothesis = hypothesis.duplicated().sum()\n",
    "duplicates_orders = orders.duplicated().sum()\n",
    "duplicates_visitors = visitors.duplicated().sum()\n",
    "\n",
    "print(\"Дубликатов в датасете hypothesis:\", duplicates_hypothesis)\n",
    "print(\"Дубликатов в датасете orders:\", duplicates_orders)\n",
    "print(\"Дубликатов в датасете visitors:\", duplicates_visitors)\n"
   ]
  },
  {
   "cell_type": "markdown",
   "metadata": {},
   "source": [
    "<div class=\"alert alert-block alert-success\">\n",
    "    \n",
    "**Комментарий от ревьюера**\n",
    "\n",
    "Молодец, что делаешь проверку на дубликаты и меняешь формат даты.\n",
    "</div>"
   ]
  },
  {
   "cell_type": "markdown",
   "metadata": {},
   "source": [
    "<div class=\"alert alert-block alert-warning\">\n",
    "    \n",
    "**Комментарий от ревьюера**\n",
    "\n",
    "Полезно выполнить проверку, не попадают ли какие-то пользователи в обе группы - по таблице с заказами.\n",
    "\n",
    "</div>"
   ]
  },
  {
   "cell_type": "markdown",
   "metadata": {},
   "source": [
    "<div class=\"alert alert-info\"> <b>Комментарий студента:</b> Добавляю ниже"
   ]
  },
  {
   "cell_type": "code",
   "execution_count": 5,
   "metadata": {},
   "outputs": [
    {
     "name": "stdout",
     "output_type": "stream",
     "text": [
      "    visitorid  group\n",
      "2     8300375      2\n",
      "44  199603092      2\n",
      "51  232979603      2\n",
      "55  237748145      2\n",
      "66  276558944      2\n"
     ]
    }
   ],
   "source": [
    "#проверим на наличие пользователей, попавших в обе группы\n",
    "users_in_both_groups = orders.groupby('visitorid').agg({'group': 'nunique'}).reset_index()\n",
    "users_in_both_groups = users_in_both_groups[users_in_both_groups['group'] > 1]\n",
    "\n",
    "#вывод первых строк результатов\n",
    "print(users_in_both_groups.head())\n"
   ]
  },
  {
   "cell_type": "markdown",
   "metadata": {},
   "source": [
    "Полученные результаты показывают, что некоторые пользователи попали одновременно в обе группы теста. Это может быть вызвано различными факторами, такими как ошибки при назначении пользователей к группам или изменения групп в процессе тестирования."
   ]
  },
  {
   "cell_type": "markdown",
   "metadata": {},
   "source": [
    "<div class=\"alert alert-success\">\n",
    "<b> Комментарий от ревьюера 2</b>\n",
    "\n",
    "Молодец, что добавила проверку таких пользователей.\n",
    "\n",
    "</div>"
   ]
  },
  {
   "cell_type": "markdown",
   "metadata": {},
   "source": [
    "#### Примените фреймворк ICE для приоритизации гипотез. Отсортируйте их по убыванию приоритета."
   ]
  },
  {
   "cell_type": "code",
   "execution_count": 6,
   "metadata": {
    "scrolled": true
   },
   "outputs": [],
   "source": [
    "#теперь когда мы выполнили предобработку данных, переходим к следующему шагу\n",
    "#вычислим ICE для каждой гипотезы\n",
    "#hypothesis['ice'] = (hypothesis['impact'] * hypothesis['confidence']) / hypothesis['efforts']\n",
    "\n",
    "#отсортируем по их убыванию приоритета\n",
    "#hypothesis.sort_values(by='ice', ascending=False)"
   ]
  },
  {
   "cell_type": "markdown",
   "metadata": {},
   "source": [
    "<div class=\"alert alert-block alert-warning\">\n",
    "    \n",
    "\n",
    "**Комментарий от ревьюера**\n",
    "\n",
    "Удобнее вывести названия гипотез целиком: `pd.set_option('max_colwidth', 200)` и округлить значения в колонке ICE до 2 знаков после запятой.\n",
    "    \n",
    "\n",
    "</div>"
   ]
  },
  {
   "cell_type": "markdown",
   "metadata": {},
   "source": [
    "<div class=\"alert alert-info\"> <b>Комментарий студента:</b> Исправляю ниже"
   ]
  },
  {
   "cell_type": "code",
   "execution_count": 7,
   "metadata": {},
   "outputs": [
    {
     "data": {
      "text/html": [
       "<div>\n",
       "<style scoped>\n",
       "    .dataframe tbody tr th:only-of-type {\n",
       "        vertical-align: middle;\n",
       "    }\n",
       "\n",
       "    .dataframe tbody tr th {\n",
       "        vertical-align: top;\n",
       "    }\n",
       "\n",
       "    .dataframe thead th {\n",
       "        text-align: right;\n",
       "    }\n",
       "</style>\n",
       "<table border=\"1\" class=\"dataframe\">\n",
       "  <thead>\n",
       "    <tr style=\"text-align: right;\">\n",
       "      <th></th>\n",
       "      <th>hypothesis</th>\n",
       "      <th>reach</th>\n",
       "      <th>impact</th>\n",
       "      <th>confidence</th>\n",
       "      <th>efforts</th>\n",
       "      <th>ice</th>\n",
       "    </tr>\n",
       "  </thead>\n",
       "  <tbody>\n",
       "    <tr>\n",
       "      <th>8</th>\n",
       "      <td>Запустить акцию, дающую скидку на товар в день рождения</td>\n",
       "      <td>1</td>\n",
       "      <td>9</td>\n",
       "      <td>9</td>\n",
       "      <td>5</td>\n",
       "      <td>16.20</td>\n",
       "    </tr>\n",
       "    <tr>\n",
       "      <th>0</th>\n",
       "      <td>Добавить два новых канала привлечения трафика, что позволит привлекать на 30% больше пользователей</td>\n",
       "      <td>3</td>\n",
       "      <td>10</td>\n",
       "      <td>8</td>\n",
       "      <td>6</td>\n",
       "      <td>13.33</td>\n",
       "    </tr>\n",
       "    <tr>\n",
       "      <th>7</th>\n",
       "      <td>Добавить форму подписки на все основные страницы, чтобы собрать базу клиентов для email-рассылок</td>\n",
       "      <td>10</td>\n",
       "      <td>7</td>\n",
       "      <td>8</td>\n",
       "      <td>5</td>\n",
       "      <td>11.20</td>\n",
       "    </tr>\n",
       "    <tr>\n",
       "      <th>6</th>\n",
       "      <td>Показать на главной странице баннеры с актуальными акциями и распродажами, чтобы увеличить конверсию</td>\n",
       "      <td>5</td>\n",
       "      <td>3</td>\n",
       "      <td>8</td>\n",
       "      <td>3</td>\n",
       "      <td>8.00</td>\n",
       "    </tr>\n",
       "    <tr>\n",
       "      <th>2</th>\n",
       "      <td>Добавить блоки рекомендаций товаров на сайт интернет магазина, чтобы повысить конверсию и средний чек заказа</td>\n",
       "      <td>8</td>\n",
       "      <td>3</td>\n",
       "      <td>7</td>\n",
       "      <td>3</td>\n",
       "      <td>7.00</td>\n",
       "    </tr>\n",
       "    <tr>\n",
       "      <th>1</th>\n",
       "      <td>Запустить собственную службу доставки, что сократит срок доставки заказов</td>\n",
       "      <td>2</td>\n",
       "      <td>5</td>\n",
       "      <td>4</td>\n",
       "      <td>10</td>\n",
       "      <td>2.00</td>\n",
       "    </tr>\n",
       "    <tr>\n",
       "      <th>5</th>\n",
       "      <td>Добавить страницу отзывов клиентов о магазине, что позволит увеличить количество заказов</td>\n",
       "      <td>3</td>\n",
       "      <td>2</td>\n",
       "      <td>2</td>\n",
       "      <td>3</td>\n",
       "      <td>1.33</td>\n",
       "    </tr>\n",
       "    <tr>\n",
       "      <th>3</th>\n",
       "      <td>Изменить структура категорий, что увеличит конверсию, т.к. пользователи быстрее найдут нужный товар</td>\n",
       "      <td>8</td>\n",
       "      <td>3</td>\n",
       "      <td>3</td>\n",
       "      <td>8</td>\n",
       "      <td>1.12</td>\n",
       "    </tr>\n",
       "    <tr>\n",
       "      <th>4</th>\n",
       "      <td>Изменить цвет фона главной страницы, чтобы увеличить вовлеченность пользователей</td>\n",
       "      <td>3</td>\n",
       "      <td>1</td>\n",
       "      <td>1</td>\n",
       "      <td>1</td>\n",
       "      <td>1.00</td>\n",
       "    </tr>\n",
       "  </tbody>\n",
       "</table>\n",
       "</div>"
      ],
      "text/plain": [
       "                                                                                                     hypothesis  \\\n",
       "8                                                       Запустить акцию, дающую скидку на товар в день рождения   \n",
       "0            Добавить два новых канала привлечения трафика, что позволит привлекать на 30% больше пользователей   \n",
       "7              Добавить форму подписки на все основные страницы, чтобы собрать базу клиентов для email-рассылок   \n",
       "6          Показать на главной странице баннеры с актуальными акциями и распродажами, чтобы увеличить конверсию   \n",
       "2  Добавить блоки рекомендаций товаров на сайт интернет магазина, чтобы повысить конверсию и средний чек заказа   \n",
       "1                                     Запустить собственную службу доставки, что сократит срок доставки заказов   \n",
       "5                      Добавить страницу отзывов клиентов о магазине, что позволит увеличить количество заказов   \n",
       "3           Изменить структура категорий, что увеличит конверсию, т.к. пользователи быстрее найдут нужный товар   \n",
       "4                              Изменить цвет фона главной страницы, чтобы увеличить вовлеченность пользователей   \n",
       "\n",
       "   reach  impact  confidence  efforts    ice  \n",
       "8      1       9           9        5  16.20  \n",
       "0      3      10           8        6  13.33  \n",
       "7     10       7           8        5  11.20  \n",
       "6      5       3           8        3   8.00  \n",
       "2      8       3           7        3   7.00  \n",
       "1      2       5           4       10   2.00  \n",
       "5      3       2           2        3   1.33  \n",
       "3      8       3           3        8   1.12  \n",
       "4      3       1           1        1   1.00  "
      ]
     },
     "execution_count": 7,
     "metadata": {},
     "output_type": "execute_result"
    }
   ],
   "source": [
    "#теперь, когда мы выполнили предобработку данных, переходим к следующему шагу\n",
    "# Вычислим ICE для каждой гипотезы.\n",
    "hypothesis['ice'] = (hypothesis['impact'] * hypothesis['confidence']) / hypothesis['efforts']\n",
    "\n",
    "#округлим значения в колонке ICE до 2 знаков после запятой\n",
    "hypothesis['ice'] = hypothesis['ice'].round(2)\n",
    "\n",
    "#установим максимальную ширину колонки для вывода названий гипотез целиком\n",
    "pd.set_option('max_colwidth', 200)\n",
    "\n",
    "#отсортируем гипотезы по убыванию их приоритета (ICE)\n",
    "hypothesis.sort_values(by='ice', ascending=False)\n",
    "\n"
   ]
  },
  {
   "cell_type": "markdown",
   "metadata": {},
   "source": [
    "<div class=\"alert alert-success\">\n",
    "<b> Комментарий от ревьюера 2</b>\n",
    "\n",
    "Супер, теперь можно легко сравнить гипотезы. \n",
    "\n",
    "</div>"
   ]
  },
  {
   "cell_type": "markdown",
   "metadata": {},
   "source": [
    "#### Примените фреймворк RICE для приоритизации гипотез. Отсортируйте их по убыванию приоритета."
   ]
  },
  {
   "cell_type": "code",
   "execution_count": 8,
   "metadata": {},
   "outputs": [
    {
     "data": {
      "text/html": [
       "<div>\n",
       "<style scoped>\n",
       "    .dataframe tbody tr th:only-of-type {\n",
       "        vertical-align: middle;\n",
       "    }\n",
       "\n",
       "    .dataframe tbody tr th {\n",
       "        vertical-align: top;\n",
       "    }\n",
       "\n",
       "    .dataframe thead th {\n",
       "        text-align: right;\n",
       "    }\n",
       "</style>\n",
       "<table border=\"1\" class=\"dataframe\">\n",
       "  <thead>\n",
       "    <tr style=\"text-align: right;\">\n",
       "      <th></th>\n",
       "      <th>hypothesis</th>\n",
       "      <th>reach</th>\n",
       "      <th>impact</th>\n",
       "      <th>confidence</th>\n",
       "      <th>efforts</th>\n",
       "      <th>ice</th>\n",
       "      <th>rice</th>\n",
       "    </tr>\n",
       "  </thead>\n",
       "  <tbody>\n",
       "    <tr>\n",
       "      <th>7</th>\n",
       "      <td>Добавить форму подписки на все основные страницы, чтобы собрать базу клиентов для email-рассылок</td>\n",
       "      <td>10</td>\n",
       "      <td>7</td>\n",
       "      <td>8</td>\n",
       "      <td>5</td>\n",
       "      <td>11.20</td>\n",
       "      <td>112.0</td>\n",
       "    </tr>\n",
       "    <tr>\n",
       "      <th>2</th>\n",
       "      <td>Добавить блоки рекомендаций товаров на сайт интернет магазина, чтобы повысить конверсию и средний чек заказа</td>\n",
       "      <td>8</td>\n",
       "      <td>3</td>\n",
       "      <td>7</td>\n",
       "      <td>3</td>\n",
       "      <td>7.00</td>\n",
       "      <td>56.0</td>\n",
       "    </tr>\n",
       "    <tr>\n",
       "      <th>0</th>\n",
       "      <td>Добавить два новых канала привлечения трафика, что позволит привлекать на 30% больше пользователей</td>\n",
       "      <td>3</td>\n",
       "      <td>10</td>\n",
       "      <td>8</td>\n",
       "      <td>6</td>\n",
       "      <td>13.33</td>\n",
       "      <td>40.0</td>\n",
       "    </tr>\n",
       "    <tr>\n",
       "      <th>6</th>\n",
       "      <td>Показать на главной странице баннеры с актуальными акциями и распродажами, чтобы увеличить конверсию</td>\n",
       "      <td>5</td>\n",
       "      <td>3</td>\n",
       "      <td>8</td>\n",
       "      <td>3</td>\n",
       "      <td>8.00</td>\n",
       "      <td>40.0</td>\n",
       "    </tr>\n",
       "    <tr>\n",
       "      <th>8</th>\n",
       "      <td>Запустить акцию, дающую скидку на товар в день рождения</td>\n",
       "      <td>1</td>\n",
       "      <td>9</td>\n",
       "      <td>9</td>\n",
       "      <td>5</td>\n",
       "      <td>16.20</td>\n",
       "      <td>16.2</td>\n",
       "    </tr>\n",
       "    <tr>\n",
       "      <th>3</th>\n",
       "      <td>Изменить структура категорий, что увеличит конверсию, т.к. пользователи быстрее найдут нужный товар</td>\n",
       "      <td>8</td>\n",
       "      <td>3</td>\n",
       "      <td>3</td>\n",
       "      <td>8</td>\n",
       "      <td>1.12</td>\n",
       "      <td>9.0</td>\n",
       "    </tr>\n",
       "    <tr>\n",
       "      <th>1</th>\n",
       "      <td>Запустить собственную службу доставки, что сократит срок доставки заказов</td>\n",
       "      <td>2</td>\n",
       "      <td>5</td>\n",
       "      <td>4</td>\n",
       "      <td>10</td>\n",
       "      <td>2.00</td>\n",
       "      <td>4.0</td>\n",
       "    </tr>\n",
       "    <tr>\n",
       "      <th>5</th>\n",
       "      <td>Добавить страницу отзывов клиентов о магазине, что позволит увеличить количество заказов</td>\n",
       "      <td>3</td>\n",
       "      <td>2</td>\n",
       "      <td>2</td>\n",
       "      <td>3</td>\n",
       "      <td>1.33</td>\n",
       "      <td>4.0</td>\n",
       "    </tr>\n",
       "    <tr>\n",
       "      <th>4</th>\n",
       "      <td>Изменить цвет фона главной страницы, чтобы увеличить вовлеченность пользователей</td>\n",
       "      <td>3</td>\n",
       "      <td>1</td>\n",
       "      <td>1</td>\n",
       "      <td>1</td>\n",
       "      <td>1.00</td>\n",
       "      <td>3.0</td>\n",
       "    </tr>\n",
       "  </tbody>\n",
       "</table>\n",
       "</div>"
      ],
      "text/plain": [
       "                                                                                                     hypothesis  \\\n",
       "7              Добавить форму подписки на все основные страницы, чтобы собрать базу клиентов для email-рассылок   \n",
       "2  Добавить блоки рекомендаций товаров на сайт интернет магазина, чтобы повысить конверсию и средний чек заказа   \n",
       "0            Добавить два новых канала привлечения трафика, что позволит привлекать на 30% больше пользователей   \n",
       "6          Показать на главной странице баннеры с актуальными акциями и распродажами, чтобы увеличить конверсию   \n",
       "8                                                       Запустить акцию, дающую скидку на товар в день рождения   \n",
       "3           Изменить структура категорий, что увеличит конверсию, т.к. пользователи быстрее найдут нужный товар   \n",
       "1                                     Запустить собственную службу доставки, что сократит срок доставки заказов   \n",
       "5                      Добавить страницу отзывов клиентов о магазине, что позволит увеличить количество заказов   \n",
       "4                              Изменить цвет фона главной страницы, чтобы увеличить вовлеченность пользователей   \n",
       "\n",
       "   reach  impact  confidence  efforts    ice   rice  \n",
       "7     10       7           8        5  11.20  112.0  \n",
       "2      8       3           7        3   7.00   56.0  \n",
       "0      3      10           8        6  13.33   40.0  \n",
       "6      5       3           8        3   8.00   40.0  \n",
       "8      1       9           9        5  16.20   16.2  \n",
       "3      8       3           3        8   1.12    9.0  \n",
       "1      2       5           4       10   2.00    4.0  \n",
       "5      3       2           2        3   1.33    4.0  \n",
       "4      3       1           1        1   1.00    3.0  "
      ]
     },
     "execution_count": 8,
     "metadata": {},
     "output_type": "execute_result"
    }
   ],
   "source": [
    "#вычислим RICE для каждой гипотезы\n",
    "hypothesis['rice'] = (hypothesis['reach'] * hypothesis['impact'] * hypothesis['confidence']) / hypothesis['efforts']\n",
    "\n",
    "#сортируем их по убыванию приоритета\n",
    "hypothesis.sort_values(by='rice', ascending=False)\n"
   ]
  },
  {
   "cell_type": "markdown",
   "metadata": {},
   "source": [
    "<div class=\"alert alert-block alert-success\">\n",
    "    \n",
    "**Комментарий от ревьюера**\n",
    "\n",
    "Молодец, что выводишь таблицу дважды, каждый раз с сортировкой по одному из фреймворков - так различия в их работе максимально наглядны.\n",
    "</div>"
   ]
  },
  {
   "cell_type": "markdown",
   "metadata": {},
   "source": [
    "#### Укажите, как изменилась приоритизация гипотез при применении RICE вместо ICE. Объясните, почему так произошло."
   ]
  },
  {
   "cell_type": "markdown",
   "metadata": {},
   "source": [
    "Мы можем увидеть что порядок гипотез изменился с 8-0-7-6-2 к 7-2-0-6-8.\n",
    "Это произошло потому что формулы разные, одна учитывает охват, а другая — нет."
   ]
  },
  {
   "cell_type": "markdown",
   "metadata": {},
   "source": [
    "<div class=\"alert alert-block alert-danger\">\n",
    "    \n",
    "**Комментарий от ревьюера**\n",
    "\n",
    "Здесь стоит добавить чуть подробнее, в чем заключается различие формул, что обозначает охват пользователей, и какую гипотезу ты рекомендуешь тестировать первой. Так между частями проекта будет логическая связь.\n",
    "\n",
    "</div>"
   ]
  },
  {
   "cell_type": "markdown",
   "metadata": {},
   "source": [
    "<div class=\"alert alert-info\"> <b>Комментарий студента:</b> Если рассмотреть результаты, то гипотеза 7 \"Добавить форму подписки на все основные страницы, чтобы собрать базу клиентов для email-рассылок\" оказалась на первом месте по RICE, в то время как по ICE она занимала третье место. Это произошло из-за того, что данная гипотеза имеет самый высокий охват пользователей (reach = 10), что значительно повышает ее приоритет в формуле RICE.\n",
    "\n",
    "Таким образом, приоритетность гипотез изменилась из-за включения в рассмотрение охвата пользователей, что делает оценку их эффективности более объективной с точки зрения практической применимости и воздействия на аудиторию.\n",
    "\n",
    "Исходя из результатов RICE, рекомендуется в первую очередь протестировать гипотезу №7, так как она имеет самый высокий показатель RICE и охватывает большую часть пользователей."
   ]
  },
  {
   "cell_type": "markdown",
   "metadata": {},
   "source": [
    "<div class=\"alert alert-success\">\n",
    "<b> Комментарий от ревьюера 2</b>\n",
    "\n",
    "Да, гипотеза 7 самая перспективная.\n",
    "\n",
    "</div>"
   ]
  },
  {
   "cell_type": "markdown",
   "metadata": {},
   "source": [
    "### Часть 2. Анализ A/B-теста \n",
    "Проанализируйте A/B-тест:"
   ]
  },
  {
   "cell_type": "markdown",
   "metadata": {},
   "source": [
    "#### Постройте график кумулятивной выручки по группам. Сделайте выводы и предположения."
   ]
  },
  {
   "cell_type": "code",
   "execution_count": 9,
   "metadata": {},
   "outputs": [
    {
     "data": {
      "image/png": "[encoded data removed]",
      "text/plain": [
       "<Figure size 720x432 with 1 Axes>"
      ]
     },
     "metadata": {
      "needs_background": "light"
     },
     "output_type": "display_data"
    }
   ],
   "source": [
    "orders_grouped = (orders.groupby(['date','group'], as_index=False)\n",
    "                        .agg({'transactionid':'nunique','visitorid':'nunique','revenue':'sum'}))\\\n",
    "                        .rename(columns={'transactionid':'orders','visitorid':'buyers'})\n",
    "orders_grouped['group_copy'] = orders_grouped['group']\n",
    "orders_grouped = orders_grouped.set_index(['date','group'])\n",
    "orders_cumsum = orders_grouped.sort_values(['date','group']).groupby('group_copy').cumsum().reset_index()\n",
    "\n",
    "#посчитаем сумму визитов по дням в каждой группе\n",
    "visitors_cumsum = visitors.groupby(['date','group'], as_index=False).agg({'visitors':'sum'}).sort_values(['date','group'])\n",
    "visitors_cumsum['group_copy'] = visitors_cumsum['group']\n",
    "visitors_cumsum = visitors_cumsum.set_index(['date','group']).groupby('group_copy').cumsum().reset_index()  \n",
    "\n",
    "cummulative = orders_cumsum.join(visitors_cumsum[['visitors']])\n",
    "cummulative['average_check'] = cummulative['revenue'] / cummulative['orders']\n",
    "cummulative['conversion'] = cummulative['orders'] / cummulative['visitors']\n",
    "\n",
    "cummulativeA = cummulative[cummulative['group']=='A'][['date', 'revenue']]\n",
    "cummulativeB = cummulative[cummulative['group']=='B'][['date', 'revenue']]\n",
    "#увеличиваем размер графика\n",
    "plt.figure(figsize=(10, 6))\n",
    "plt.plot(cummulativeA.iloc[:,0].to_frame(), cummulativeA.iloc[:,1].to_frame(), label='A' )\n",
    "plt.plot(cummulativeB.iloc[:,0].to_frame(), cummulativeB.iloc[:,1].to_frame(), label='B')\n",
    "plt.title('График кумулятивной выручки по группам')\n",
    "plt.ylabel(\"График кумулятивной выручки\")\n",
    "plt.xticks(rotation=45)\n",
    "plt.legend()\n",
    "plt.show()"
   ]
  },
  {
   "cell_type": "markdown",
   "metadata": {},
   "source": [
    "<div class=\"alert alert-block alert-danger\">\n",
    "    \n",
    "\n",
    "**Комментарий от ревьюера**\n",
    "\n",
    "Стоит немного увеличить размер этого и следующих графиков, чтобы для дат было достаточно места. \n",
    "</div>"
   ]
  },
  {
   "cell_type": "markdown",
   "metadata": {},
   "source": [
    "<div class=\"alert alert-info\"> <b>Комментарий студента:</b> Увеличено 👍"
   ]
  },
  {
   "cell_type": "markdown",
   "metadata": {},
   "source": [
    "<div class=\"alert alert-block alert-success\">\n",
    "    \n",
    "**Комментарий от ревьюера 2**\n",
    "\n",
    "Теперь очень легко понять 👍\n",
    "</div>"
   ]
  },
  {
   "cell_type": "markdown",
   "metadata": {},
   "source": [
    "Как мы видим по графику у B есть скачок, похожий на выброс, в то время как A растет равномерно."
   ]
  },
  {
   "cell_type": "markdown",
   "metadata": {},
   "source": [
    "<div class=\"alert alert-block alert-warning\">\n",
    "    \n",
    "**Комментарий от ревьюера**\n",
    "\n",
    "В выводы нас просят добавить предположения, с чем может быть связано такое поведение графиков.\n",
    "</div>"
   ]
  },
  {
   "cell_type": "markdown",
   "metadata": {},
   "source": [
    "<div class=\"alert alert-info\"> <b>Комментарий студента:</b> Возможно, причины всплеска выручки в группе \"B\" может быть запущенная рекламная кампания или акция, которая привлекла больше потенциальных покупателей в группу \"B\". Это может быть сезонная распродажа, специальное предложение или скидка на определенные товары. Не исключено, что в этот день возникли технические проблемы на сайте или в платежной системе, которые привели к ошибкам в расчетах выручки или к проблемам с оформлением заказов. Это может привести к искажению данных и всплеску выручки. Возможно, какой-то популярный товар или категория товаров стали особенно востребованными в этот день, что привело к увеличению числа заказов и, соответственно, к росту выручки. Или же, внешние факторы. Например, событие в индустрии или обществе, реклама на других платформах или внешние факторы, которые могли привлечь внимание к магазину и стимулировать покупки."
   ]
  },
  {
   "cell_type": "markdown",
   "metadata": {},
   "source": [
    "#### Постройте график кумулятивного среднего чека по группам. Сделайте выводы и предположения."
   ]
  },
  {
   "cell_type": "code",
   "execution_count": 10,
   "metadata": {},
   "outputs": [
    {
     "data": {
      "image/png": "[encoded data removed]",
      "text/plain": [
       "<Figure size 720x432 with 1 Axes>"
      ]
     },
     "metadata": {
      "needs_background": "light"
     },
     "output_type": "display_data"
    }
   ],
   "source": [
    "cummulativeA = cummulative[cummulative['group']=='A'][['date', 'average_check']]\n",
    "cummulativeB = cummulative[cummulative['group']=='B'][['date', 'average_check']]\n",
    "plt.figure(figsize=(10, 6))\n",
    "plt.plot(cummulativeA.iloc[:,0].to_frame(), cummulativeA.iloc[:,1].to_frame(), label='A' )\n",
    "plt.plot(cummulativeB.iloc[:,0].to_frame(), cummulativeB.iloc[:,1].to_frame(), label='B')\n",
    "plt.title('График кумулятивного среднего чека по группам')\n",
    "plt.ylabel(\"Выручка\")\n",
    "plt.xticks(rotation=45)\n",
    "plt.legend()\n",
    "plt.show()"
   ]
  },
  {
   "cell_type": "markdown",
   "metadata": {},
   "source": [
    "Здесь мы видим такой же аномальный скачок для B."
   ]
  },
  {
   "cell_type": "markdown",
   "metadata": {},
   "source": [
    "<div class=\"alert alert-block alert-success\">\n",
    "    \n",
    "**Комментарий от ревьюера 2**\n",
    "    \n",
    "Да, резкий рост происходит в ту же дату, что и на предыдущем графике.\n",
    "</div>"
   ]
  },
  {
   "cell_type": "markdown",
   "metadata": {},
   "source": [
    "#### Постройте график относительного изменения кумулятивного среднего чека группы B к группе A. Сделайте выводы и предположения."
   ]
  },
  {
   "cell_type": "code",
   "execution_count": 11,
   "metadata": {},
   "outputs": [
    {
     "data": {
      "image/png": "[encoded data removed]",
      "text/plain": [
       "<Figure size 720x432 with 1 Axes>"
      ]
     },
     "metadata": {
      "needs_background": "light"
     },
     "output_type": "display_data"
    }
   ],
   "source": [
    "temp = (cummulativeA[['date', 'average_check']].merge(cummulativeB[['date', 'average_check']], \n",
    "                                            left_on='date', right_on='date', how='left', suffixes=['_A', '_B']))\n",
    "plt.figure(figsize=(10, 6))\n",
    "plt.plot(temp['date'], temp['average_check_B'] / temp['average_check_A']-1)\n",
    "plt.title('График относительного изменения кумулятивного среднего чека группы B к группе A')\n",
    "#добавляем подпись оси Y\n",
    "plt.ylabel('Коэффициент отношения чека')\n",
    "plt.axhline(y=0, color='brown', linestyle='-')\n",
    "plt.xticks(rotation=45)\n",
    "plt.show()"
   ]
  },
  {
   "cell_type": "markdown",
   "metadata": {},
   "source": [
    "<div class=\"alert alert-block alert-danger\">\n",
    "    \n",
    "**Комментарий от ревьюера**\n",
    "    \n",
    "Добавь, пожалуйста, подпись оси Y. Так график будет проще понять.\n",
    "    \n",
    "</div>"
   ]
  },
  {
   "cell_type": "markdown",
   "metadata": {},
   "source": [
    "<div class=\"alert alert-info\"> <b>Комментарий студента:</b> Добавлено"
   ]
  },
  {
   "cell_type": "markdown",
   "metadata": {},
   "source": [
    "Видим то же самое, что и на предыдущих двух графиках."
   ]
  },
  {
   "cell_type": "markdown",
   "metadata": {},
   "source": [
    "#### Постройте график кумулятивного среднего количества заказов на посетителя по группам. Сделайте выводы и предположения."
   ]
  },
  {
   "cell_type": "code",
   "execution_count": 12,
   "metadata": {},
   "outputs": [
    {
     "data": {
      "image/png": "[encoded data removed]",
      "text/plain": [
       "<Figure size 720x432 with 1 Axes>"
      ]
     },
     "metadata": {
      "needs_background": "light"
     },
     "output_type": "display_data"
    }
   ],
   "source": [
    "cummulativeA = cummulative[cummulative['group']=='A'][['date', 'conversion']]\n",
    "cummulativeB = cummulative[cummulative['group']=='B'][['date', 'conversion']]\n",
    "plt.figure(figsize=(10, 6))\n",
    "plt.plot(cummulativeA.iloc[:,0].to_frame(), cummulativeA.iloc[:,1].to_frame(), label='A' )\n",
    "plt.plot(cummulativeB.iloc[:,0].to_frame(), cummulativeB.iloc[:,1].to_frame(), label='B')\n",
    "plt.title('График кумулятивной среднего количества заказов на посетителя по группам')\n",
    "plt.ylabel('Среднее количество заказов')\n",
    "plt.xticks(rotation=45)\n",
    "plt.legend()\n",
    "plt.show()"
   ]
  },
  {
   "attachments": {
    "2023-11-28%2018%2056%2000.png": {
     "image/png": "[encoded data removed]"
    }
   },
   "cell_type": "markdown",
   "metadata": {},
   "source": [
    "<div class=\"alert alert-block alert-danger\">\n",
    "    \n",
    "**Комментарий от ревьюера**\n",
    "    \n",
    "Здесь и дальше ты называешь один и тот же показатель иногда \"конверсией\", а иногда \"средним количеством заказов на посетителя\". Вторая формулировка более корректная, так как для расчета конверсии в чистом виде, нам нужны id посетителей. Поправь, пожалуйста, формулировки, это можно сделать с помощью автозамены: в меню Edit ➡ Find and Replace. \n",
    "    \n",
    "Кнопка со скриншота ниже позволяет сделать замены сразу во всех ячейках:\n",
    "    \n",
    "![2023-11-28%2018%2056%2000.png](attachment:2023-11-28%2018%2056%2000.png)\n",
    "    \n",
    "Кроме того, на оси Y у нас не выручка, а среднее количество заказов.\n",
    "    \n",
    "</div>"
   ]
  },
  {
   "cell_type": "markdown",
   "metadata": {},
   "source": [
    "<div class=\"alert alert-info\"> <b>Комментарий студента:</b> Хорошо"
   ]
  },
  {
   "cell_type": "markdown",
   "metadata": {},
   "source": [
    "У группы B показатель среднего количества заказов на посетителя по группам на данный момент выглядит лучше. У группы А показатель среднего количества заказов на посетителя по группам болтается в районе 0,029 и до 0,031. В-конверсия от 0,033 и до 0,037."
   ]
  },
  {
   "cell_type": "markdown",
   "metadata": {},
   "source": [
    "<div class=\"alert alert-block alert-success\">\n",
    "    \n",
    "**Комментарий от ревьюера 2**\n",
    "\n",
    "Всё верно, теперь формулировки совпадают.\n",
    "</div>"
   ]
  },
  {
   "cell_type": "markdown",
   "metadata": {},
   "source": [
    "#### Постройте график относительного изменения кумулятивного среднего количества заказов на посетителя группы B к группе A. Сделайте выводы и предположения."
   ]
  },
  {
   "cell_type": "code",
   "execution_count": 13,
   "metadata": {},
   "outputs": [
    {
     "data": {
      "image/png": "[encoded data removed]",
      "text/plain": [
       "<Figure size 720x432 with 1 Axes>"
      ]
     },
     "metadata": {
      "needs_background": "light"
     },
     "output_type": "display_data"
    }
   ],
   "source": [
    "temp = (cummulativeA[['date', 'conversion']].merge(cummulativeB[['date', 'conversion']], \n",
    "                                            left_on='date', right_on='date', how='left', suffixes=['_A', '_B']))\n",
    "plt.figure(figsize=(10, 6))\n",
    "plt.plot(temp['date'], temp['conversion_B'] / temp['conversion_A']-1)\n",
    "plt.title('График  относительного изменения кумулятивного среднего количества заказов на посетителя группы B к группе A')\n",
    "plt.ylabel('Коэффициент отношения количества заказов на посетителя')\n",
    "plt.axhline(y=0, color='green', linestyle='-')\n",
    "#добавляем линию на уровне 0.15\n",
    "plt.axhline(y=0.15, color='gray', linestyle='--')\n",
    "plt.xticks(rotation=45)\n",
    "plt.show()"
   ]
  },
  {
   "cell_type": "markdown",
   "metadata": {},
   "source": [
    "<div class=\"alert alert-block alert-danger\">\n",
    "    \n",
    "**Комментарий от ревьюера**\n",
    "    \n",
    "Здесь также не хватает подписи оси Y.\n",
    "    \n",
    "</div>"
   ]
  },
  {
   "cell_type": "markdown",
   "metadata": {},
   "source": [
    "<div class=\"alert alert-block alert-warning\">\n",
    "    \n",
    "**Комментарий от ревьюера**\n",
    "\n",
    "Для удобства на график можно добавить еще одну линию серым цветом на значение 0.15 по оси y, так как около этого значения намечается тенденция к стабилизации.\n",
    "    \n",
    "</div>"
   ]
  },
  {
   "cell_type": "markdown",
   "metadata": {},
   "source": [
    "<div class=\"alert alert-info\"> <b>Комментарий студента:</b> 👍 "
   ]
  },
  {
   "cell_type": "markdown",
   "metadata": {},
   "source": [
    "B-конверсия намного лучше."
   ]
  },
  {
   "cell_type": "markdown",
   "metadata": {},
   "source": [
    "#### Постройте точечный график количества заказов по пользователям. Сделайте выводы и предположения."
   ]
  },
  {
   "cell_type": "code",
   "execution_count": 14,
   "metadata": {},
   "outputs": [
    {
     "data": {
      "image/png": "[encoded data removed]",
      "text/plain": [
       "<Figure size 720x432 with 1 Axes>"
      ]
     },
     "metadata": {
      "needs_background": "light"
     },
     "output_type": "display_data"
    }
   ],
   "source": [
    "orders_per_user = orders.groupby('visitorid', as_index=False).agg({'transactionid':'nunique'})\\\n",
    "                         .rename(columns={'transactionid':'orders'})\n",
    "x_values = pd.Series(range(0,len(orders_per_user['orders'])))\n",
    "plt.figure(figsize=(10, 6))\n",
    "plt.title('Количество заказов на 1 пользователя')\n",
    "plt.xlabel('Условный номер пользователя в списке')\n",
    "plt.ylabel('Количество заказов пользователя')\n",
    "plt.scatter(x_values, orders_per_user['orders'])\n",
    "plt.show()"
   ]
  },
  {
   "cell_type": "markdown",
   "metadata": {},
   "source": [
    "<div class=\"alert alert-block alert-danger\">\n",
    "    \n",
    "**Комментарий от ревьюера**\n",
    "    \n",
    "Добавь, пожалуйста, для точечных графиков также названия и подписи осей.\n",
    "    \n",
    "</div>"
   ]
  },
  {
   "cell_type": "markdown",
   "metadata": {},
   "source": [
    "<div class=\"alert alert-info\"> <b>Комментарий студента:</b> 👍 "
   ]
  },
  {
   "cell_type": "markdown",
   "metadata": {},
   "source": [
    "<div class=\"alert alert-block alert-success\">\n",
    "    \n",
    "**Комментарий от ревьюера 2**\n",
    "\n",
    "Теперь все графики оформлены очень аккуратно 👍\n",
    "</div>"
   ]
  },
  {
   "cell_type": "markdown",
   "metadata": {},
   "source": [
    "Видя по графику, основная часть пользователей предпочитает совершать 1 заказ."
   ]
  },
  {
   "cell_type": "markdown",
   "metadata": {},
   "source": [
    "#### Посчитайте 95-й и 99-й перцентили количества заказов на пользователя. Выберите границу для определения аномальных пользователей."
   ]
  },
  {
   "cell_type": "code",
   "execution_count": 15,
   "metadata": {},
   "outputs": [
    {
     "name": "stdout",
     "output_type": "stream",
     "text": [
      "90 перцентиль: 1.00\n",
      "95 перцентиль: 2.00\n",
      "99 перцентиль: 4.00\n"
     ]
    }
   ],
   "source": [
    "print('90 перцентиль: %.2f' % (np.percentile(orders_per_user['orders'], [90])))\n",
    "print('95 перцентиль: %.2f' % (np.percentile(orders_per_user['orders'], [95])))\n",
    "print('99 перцентиль: %.2f' % (np.percentile(orders_per_user['orders'], [99])))"
   ]
  },
  {
   "cell_type": "markdown",
   "metadata": {},
   "source": [
    "95% пользователей совершили 2 заказа или менее за время теста\n",
    "98% пользователей совершили 3 заказа или более за время теста. Следует отметить, что значение в 3 заказа начинает фигурировать только с этой отметки. Таким образом, 97% процентов пользователей совершили не более 3 заказов за время теста - на этой отметке мы зафиксируем границу."
   ]
  },
  {
   "cell_type": "code",
   "execution_count": 16,
   "metadata": {},
   "outputs": [],
   "source": [
    "outlaws= orders_per_user[orders_per_user['orders'] >= 3]['visitorid'].to_list()"
   ]
  },
  {
   "cell_type": "markdown",
   "metadata": {},
   "source": [
    "<div class=\"alert alert-block alert-warning\">\n",
    "    \n",
    "**Комментарий от ревьюера**\n",
    "\n",
    "Такой выбор границы выбросов получается не совсем удобным. Если сейчас тебя спросят, по какому перцентилю ты провела границу выбросов, ты не сможешь точно ответить. Лучше определять выбросы по тому перцентилю, показатели по которому были рассчитаны. Или рассчитать перцентиль для того количества заказов, которое ты выбираешь как границу выбросов.\n",
    "\n",
    "</div>"
   ]
  },
  {
   "cell_type": "markdown",
   "metadata": {},
   "source": [
    "<div class=\"alert alert-info\"> <b>Комментарий студента:</b> Рассчитываю перцентиль для того количества заказов, которое буду брать за границу выбросов."
   ]
  },
  {
   "cell_type": "code",
   "execution_count": 17,
   "metadata": {},
   "outputs": [
    {
     "name": "stdout",
     "output_type": "stream",
     "text": [
      "96 перцентиль: 2.00\n",
      "97 перцентиль: 2.00\n",
      "98 перцентиль: 3.00\n"
     ]
    }
   ],
   "source": [
    "print('96 перцентиль: %.2f' % (np.percentile(orders_per_user['orders'], [96])))\n",
    "print('97 перцентиль: %.2f' % (np.percentile(orders_per_user['orders'], [97])))\n",
    "print('98 перцентиль: %.2f' % (np.percentile(orders_per_user['orders'], [98])))"
   ]
  },
  {
   "cell_type": "markdown",
   "metadata": {},
   "source": [
    "<div class=\"alert alert-block alert-success\">\n",
    "    \n",
    "**Комментарий от ревьюера 2**\n",
    "\n",
    "Здорово, так понятно, на какой перцентиль мы ориентируемся.\n",
    "</div>"
   ]
  },
  {
   "cell_type": "markdown",
   "metadata": {},
   "source": [
    "#### Постройте точечный график стоимостей заказов. Сделайте выводы и предположения."
   ]
  },
  {
   "cell_type": "code",
   "execution_count": 18,
   "metadata": {},
   "outputs": [
    {
     "data": {
      "image/png": "[encoded data removed]",
      "text/plain": [
       "<Figure size 720x432 with 1 Axes>"
      ]
     },
     "metadata": {
      "needs_background": "light"
     },
     "output_type": "display_data"
    }
   ],
   "source": [
    "x_values = pd.Series(range(0,len(orders['revenue'])))\n",
    "plt.figure(figsize=(10, 6))\n",
    "plt.title('Суммы заказов')\n",
    "plt.xlabel('Условный номер пользователя в списке')\n",
    "plt.ylabel('Сумма заказа')\n",
    "plt.scatter(x_values, orders['revenue'])\n",
    "plt.show()"
   ]
  },
  {
   "cell_type": "markdown",
   "metadata": {},
   "source": [
    "<div class=\"alert alert-block alert-warning\">\n",
    "    \n",
    "**Комментарий от ревьюера**\n",
    "\n",
    "Полезно добавить еще один график, ограничив значения по оси Y. Чтобы двух явных выбросов не было видно, а мы могли рассмотреть основную часть заказов.\n",
    "\n",
    "</div>"
   ]
  },
  {
   "cell_type": "markdown",
   "metadata": {},
   "source": [
    "<div class=\"alert alert-info\"> <b>Комментарий студента:</b> Добавляю еще один график"
   ]
  },
  {
   "cell_type": "code",
   "execution_count": 19,
   "metadata": {},
   "outputs": [
    {
     "data": {
      "image/png": "[encoded data removed]",
      "text/plain": [
       "<Figure size 720x432 with 1 Axes>"
      ]
     },
     "metadata": {
      "needs_background": "light"
     },
     "output_type": "display_data"
    }
   ],
   "source": [
    "#второй график с ограничением по оси Y\n",
    "plt.figure(figsize=(10, 6))\n",
    "plt.title('Суммы заказов (ограничение по оси Y)')\n",
    "plt.xlabel('Условный номер пользователя в списке')\n",
    "plt.ylabel('Сумма заказа')\n",
    "plt.scatter(x_values, orders['revenue'])\n",
    "plt.ylim(0, 100000)\n",
    "plt.show()"
   ]
  },
  {
   "cell_type": "markdown",
   "metadata": {},
   "source": [
    "<div class=\"alert alert-block alert-success\">\n",
    "    \n",
    "**Комментарий от ревьюера 2**\n",
    "    \n",
    "Удобно, когда можно рассмотреть и выбросы, и основную часть заказов.\n",
    "</div>"
   ]
  },
  {
   "cell_type": "markdown",
   "metadata": {},
   "source": [
    "По графику мы видим два аномальных заказа."
   ]
  },
  {
   "cell_type": "markdown",
   "metadata": {},
   "source": [
    "#### Посчитайте 95-й и 99-й перцентили стоимости заказов. Выберите границу для определения аномальных заказов."
   ]
  },
  {
   "cell_type": "code",
   "execution_count": 20,
   "metadata": {},
   "outputs": [
    {
     "name": "stdout",
     "output_type": "stream",
     "text": [
      "90 перцентиль: 18168.00\n",
      "95 перцентиль: 28000.00\n",
      "99 перцентиль: 58233.20\n"
     ]
    }
   ],
   "source": [
    "print('90 перцентиль: %.2f' % (np.percentile(orders['revenue'], [90])))\n",
    "print('95 перцентиль: %.2f' % (np.percentile(orders['revenue'], [95])))\n",
    "print('99 перцентиль: %.2f' % (np.percentile(orders['revenue'], [99])))"
   ]
  },
  {
   "cell_type": "code",
   "execution_count": 21,
   "metadata": {},
   "outputs": [
    {
     "name": "stdout",
     "output_type": "stream",
     "text": [
      "96 перцентиль: 31382.00\n",
      "97 перцентиль: 35485.00\n",
      "98 перцентиль: 44133.20\n"
     ]
    }
   ],
   "source": [
    "print('96 перцентиль: %.2f' % (np.percentile(orders['revenue'], [96])))\n",
    "print('97 перцентиль: %.2f' % (np.percentile(orders['revenue'], [97])))\n",
    "print('98 перцентиль: %.2f' % (np.percentile(orders['revenue'], [98])))"
   ]
  },
  {
   "cell_type": "markdown",
   "metadata": {},
   "source": [
    "Числовые значения суммы заказа при расчете процентилей говорят нам о том, что с 97 процентиля включительно частота дискретизации заказов падает и рост суммы становится относительно большим. В качестве ограничения суммы заказа необходимо использовать 96 процентиль, то есть сумму в 31382 условных единицы."
   ]
  },
  {
   "cell_type": "markdown",
   "metadata": {},
   "source": [
    "<div class=\"alert alert-block alert-success\">\n",
    "    \n",
    "**Комментарий от ревьюера**\n",
    "    \n",
    "Такое определение выбросов для стоимости заказов корректно.\n",
    "</div>"
   ]
  },
  {
   "cell_type": "markdown",
   "metadata": {},
   "source": [
    "#### Посчитайте статистическую значимость различий в среднем количестве заказов на посетителя между группами по «сырым» данным. Сделайте выводы и предположения."
   ]
  },
  {
   "cell_type": "markdown",
   "metadata": {},
   "source": [
    "<div class=\"alert alert-block alert-danger\">\n",
    "    \n",
    "**Комментарий от ревьюера**\n",
    "    \n",
    "Давай оформим этот и следующие 3 вопроса о расчете статистической значимости так, чтобы их было легко понять тому, кого заинтересует твой проект. Вот что должно быть в каждом из 4 пунктов:\n",
    "\n",
    "* укажи, какое значение alpha ты будешь использовать, чтобы не искать его в коде;\n",
    "* укажи, почему ты используешь Z-критерий для проверки гипотез;\n",
    "* также надо поправить формулировки гипотез, чтобы для всех расчетов они были одинаковы, и в них была информация о том, что мы проверяем, есть ли статистически значимые отличия между группами.\n",
    "  \n",
    "</div>"
   ]
  },
  {
   "cell_type": "markdown",
   "metadata": {},
   "source": [
    "<div class=\"alert alert-info\"> <b>Комментарий студента:</b> Исправляю ниже, в последующих 4 пунктах"
   ]
  },
  {
   "cell_type": "markdown",
   "metadata": {},
   "source": [
    "* alpha: 0.05\n",
    "* Используем Z-критерий для разности двух долей, потому что данные о количестве заказов подчиняются биномиальному распределению.\n",
    "* H0: Среднее количество заказов на посетителя в группе A равно среднему количеству заказов на посетителя в группе B.\n",
    "* H1: Среднее количество заказов на посетителя в группе A не равно среднему количеству заказов на посетителя в группе B."
   ]
  },
  {
   "cell_type": "markdown",
   "metadata": {},
   "source": [
    "<div class=\"alert alert-block alert-warning\">\n",
    "    \n",
    "**Комментарий от ревьюера 2**\n",
    "    \n",
    "Формулировки гипотез можно дополнить, чтобы в них было указание на то, что нас интересуют именно статистически значимые различия. Например, так:\n",
    " \n",
    "**Нулевая гипотеза** Статистически значимых различий в ... между группами по ... данным нет.\n",
    "\n",
    "**Альтернативная гипотеза** Статистически значимые различия в ... между группами по ... данным есть.\n",
    "  \n",
    "</div>"
   ]
  },
  {
   "cell_type": "code",
   "execution_count": 22,
   "metadata": {},
   "outputs": [
    {
     "data": {
      "text/html": [
       "<div>\n",
       "<style scoped>\n",
       "    .dataframe tbody tr th:only-of-type {\n",
       "        vertical-align: middle;\n",
       "    }\n",
       "\n",
       "    .dataframe tbody tr th {\n",
       "        vertical-align: top;\n",
       "    }\n",
       "\n",
       "    .dataframe thead th {\n",
       "        text-align: right;\n",
       "    }\n",
       "</style>\n",
       "<table border=\"1\" class=\"dataframe\">\n",
       "  <thead>\n",
       "    <tr style=\"text-align: right;\">\n",
       "      <th></th>\n",
       "      <th>group</th>\n",
       "      <th>orders</th>\n",
       "      <th>visitors</th>\n",
       "      <th>conversion</th>\n",
       "    </tr>\n",
       "  </thead>\n",
       "  <tbody>\n",
       "    <tr>\n",
       "      <th>0</th>\n",
       "      <td>A</td>\n",
       "      <td>557</td>\n",
       "      <td>18736</td>\n",
       "      <td>0.029729</td>\n",
       "    </tr>\n",
       "    <tr>\n",
       "      <th>1</th>\n",
       "      <td>B</td>\n",
       "      <td>640</td>\n",
       "      <td>18916</td>\n",
       "      <td>0.033834</td>\n",
       "    </tr>\n",
       "  </tbody>\n",
       "</table>\n",
       "</div>"
      ],
      "text/plain": [
       "  group  orders  visitors  conversion\n",
       "0     A     557     18736    0.029729\n",
       "1     B     640     18916    0.033834"
      ]
     },
     "execution_count": 22,
     "metadata": {},
     "output_type": "execute_result"
    }
   ],
   "source": [
    "conversion = (orders.groupby('group').agg({'transactionid':'count'}).rename(columns={'transactionid':'orders'}))\\\n",
    "                                     .join((visitors.groupby('group').agg({'visitors':'sum'}))).reset_index()\n",
    "conversion['conversion'] = conversion['orders'] / conversion['visitors']\n",
    "conversion"
   ]
  },
  {
   "cell_type": "code",
   "execution_count": 23,
   "metadata": {},
   "outputs": [
    {
     "name": "stdout",
     "output_type": "stream",
     "text": [
      "p-значение:  0.02320723394441848\n",
      "Отвергаем нулевую гипотезу: статистически значимые отличия между группами присутствуют\n"
     ]
    }
   ],
   "source": [
    "alpha=0.05\n",
    "purchases = np.array(conversion['orders'])\n",
    "leads = np.array(conversion['visitors'])\n",
    "p1 = purchases[0] / leads[0]\n",
    "p2 = purchases[1] / leads[1]\n",
    "combined = (purchases[0] + purchases[1]) / (leads[0] + leads[1])\n",
    "difference = p1-p2\n",
    "z_value = difference / math.sqrt(combined * (1 - combined) * (1 / leads[0] + 1 / leads[1]))\n",
    "distr = st.norm(0,1)\n",
    "p_value = (1 - distr.cdf(abs(z_value))) * 2\n",
    "print('p-значение: ', p_value)\n",
    "if (p_value < alpha):\n",
    "    print(\"Отвергаем нулевую гипотезу: статистически значимые отличия между группами присутствуют\")\n",
    "else:\n",
    "    print(\"Не получилось отвергнуть нулевую гипотезу: статистически значимые отличия между группами отсутствуют\")"
   ]
  },
  {
   "cell_type": "markdown",
   "metadata": {},
   "source": [
    "<div class=\"alert alert-block alert-danger\">\n",
    "    \n",
    "**Комментарий от ревьюера**\n",
    "    \n",
    "В уроке вместе со статистической значимостью рассчитывается еще относительное различие между группами. Добавь эти расчеты, пожалуйста, тоже здесь и в следующие пункты: так легче сделать вывод, какая группа лидирует.\n",
    "</div>"
   ]
  },
  {
   "cell_type": "markdown",
   "metadata": {},
   "source": [
    "<div class=\"alert alert-info\"> <b>Комментарий студента:</b> Добавляю"
   ]
  },
  {
   "cell_type": "code",
   "execution_count": 24,
   "metadata": {},
   "outputs": [
    {
     "name": "stdout",
     "output_type": "stream",
     "text": [
      "Относительное различие в среднем количестве заказов между группами: 13.81%\n"
     ]
    }
   ],
   "source": [
    "#посчитаем относительное различие в среднем количестве заказов между группами\n",
    "conversion_A = conversion.loc[conversion['group'] == 'A', 'conversion'].values[0]\n",
    "conversion_B = conversion.loc[conversion['group'] == 'B', 'conversion'].values[0]\n",
    "relative_difference = (conversion_B / conversion_A - 1) * 100\n",
    "print(\"Относительное различие в среднем количестве заказов между группами: {:.2f}%\".format(relative_difference))"
   ]
  },
  {
   "cell_type": "markdown",
   "metadata": {},
   "source": [
    "Таким образом, статистической значимости между конверсиями двух групп по \"сырым\" данным показывает, что между группами есть статистически значимое отличие."
   ]
  },
  {
   "cell_type": "markdown",
   "metadata": {},
   "source": [
    "<div class=\"alert alert-block alert-danger\">\n",
    "    \n",
    "**Комментарий от ревьюера 2**\n",
    "\n",
    "Поправь, пожалуйста, формулировки выше: здесь конверсию надо заменить на среднее количество заказов.\n",
    "</div>"
   ]
  },
  {
   "cell_type": "markdown",
   "metadata": {},
   "source": [
    "<div class=\"alert alert-info\"> <b>Комментарий студента:</b> Исправляю"
   ]
  },
  {
   "cell_type": "markdown",
   "metadata": {},
   "source": [
    "#### Посчитайте статистическую значимость различий в среднем чеке заказа между группами по «сырым» данным. Сделайте выводы и предположения."
   ]
  },
  {
   "cell_type": "markdown",
   "metadata": {},
   "source": [
    "* alpha: 0.05\n",
    "* Используем критерий Манна-Уитни, так как данные о средних чеках могут не подчиняться нормальному распределению.\n",
    "* H0: Средний чек заказа в группе A равен среднему чеку заказа в группе B.\n",
    "* H1: Средний чек заказа в группе A не равен среднему чеку заказа в группе B."
   ]
  },
  {
   "cell_type": "code",
   "execution_count": 25,
   "metadata": {},
   "outputs": [
    {
     "name": "stdout",
     "output_type": "stream",
     "text": [
      "p-значение:  0.7292909855432458\n",
      "Не получилось отвергнуть нулевую гипотезу: статистически значимые отличия между группами отсутствуют\n"
     ]
    }
   ],
   "source": [
    "alpha = 0.05\n",
    "results = st.mannwhitneyu(orders[orders['group']=='A']['revenue'], orders[orders['group']=='B']['revenue'])\n",
    "pvalue = results.pvalue\n",
    "print('p-значение: ', pvalue)\n",
    "if (pvalue < alpha):\n",
    "    print(\"Отвергаем нулевую гипотезу: статистически значимые отличия между группами присутсвуют\")\n",
    "else:\n",
    "    print(\"Не получилось отвергнуть нулевую гипотезу: статистически значимые отличия между группами отсутствуют\")"
   ]
  },
  {
   "cell_type": "code",
   "execution_count": 26,
   "metadata": {},
   "outputs": [
    {
     "name": "stdout",
     "output_type": "stream",
     "text": [
      "Относительное различие в среднем чеке между группами: 25.87%\n"
     ]
    }
   ],
   "source": [
    "#рассчитаем относительное различие в среднем чеке между группами\n",
    "mean_revenue_A = orders[orders['group'] == 'A']['revenue'].mean()\n",
    "mean_revenue_B = orders[orders['group'] == 'B']['revenue'].mean()\n",
    "relative_difference_revenue = (mean_revenue_B / mean_revenue_A - 1) * 100\n",
    "print(\"Относительное различие в среднем чеке между группами: {:.2f}%\".format(relative_difference_revenue))"
   ]
  },
  {
   "cell_type": "markdown",
   "metadata": {},
   "source": [
    "<div class=\"alert alert-block alert-success\">\n",
    "    \n",
    "**Комментарий от ревьюера**\n",
    "\n",
    "Да, по этому показателю между группами нет статистически значимых различий.\n",
    "</div>"
   ]
  },
  {
   "cell_type": "markdown",
   "metadata": {},
   "source": [
    "#### Посчитайте статистическую значимость различий в среднем количестве заказов на посетителя между группами по «очищенным» данным. Сделайте выводы и предположения."
   ]
  },
  {
   "cell_type": "markdown",
   "metadata": {},
   "source": [
    "* alpha: 0.05\n",
    "* Используем Z-критерий для разности двух долей, потому что данные о количестве заказов подчиняются биномиальному распределению.\n",
    "* H0: Среднее количество заказов на посетителя в группе A (по \"очищенным\" данным) равно среднему количеству заказов на посетителя в группе B (по \"очищенным\" данным).\n",
    "* H1: Среднее количество заказов на посетителя в группе A (по \"очищенным\" данным) не равно среднему количеству заказов на посетителя в группе B (по \"очищенным\" данным)."
   ]
  },
  {
   "cell_type": "code",
   "execution_count": 27,
   "metadata": {},
   "outputs": [
    {
     "name": "stdout",
     "output_type": "stream",
     "text": [
      "p-значение:  0.009097734802026691\n",
      "Отвергаем нулевую гипотезу: статистически значимые отличия между группами присутствуют\n"
     ]
    }
   ],
   "source": [
    "orders_temp = orders[~orders['visitorid'].isin(outlaws)]\n",
    "conversion_clear = (orders_temp.groupby('group').agg({'transactionid':'count'}).rename(columns={'transactionid':'orders'}))\\\n",
    "                                                .join((visitors.groupby('group').agg({'visitors':'sum'}))).reset_index()\n",
    "alpha=0.05\n",
    "purchases = np.array(conversion_clear['orders'])\n",
    "leads = np.array(conversion_clear['visitors'])\n",
    "p1 = purchases[0] / leads[0]\n",
    "p2 = purchases[1] / leads[1]\n",
    "combined = (purchases[0] + purchases[1]) / (leads[0] + leads[1])\n",
    "difference = p1-p2\n",
    "z_value = difference / math.sqrt(combined * (1 - combined) * (1 / leads[0] + 1 / leads[1]))\n",
    "distr = st.norm(0,1)\n",
    "p_value = (1 - distr.cdf(abs(z_value))) * 2\n",
    "print('p-значение: ', p_value)\n",
    "if (p_value < alpha):\n",
    "    print(\"Отвергаем нулевую гипотезу: статистически значимые отличия между группами присутствуют\")\n",
    "else:\n",
    "    print(\"Не получилось отвергнуть нулевую гипотезу: статистически значимые отличия между группами отсутствуют\")   "
   ]
  },
  {
   "cell_type": "code",
   "execution_count": 28,
   "metadata": {},
   "outputs": [
    {
     "name": "stdout",
     "output_type": "stream",
     "text": [
      "Относительное различие в среднем количестве заказов на посетителя между группами по «очищенным» данным между группами (по очищенным данным): 0.11%\n"
     ]
    }
   ],
   "source": [
    "# Посчитаем количество заказов и посетителей в каждой группе после очистки данных от выбросов\n",
    "conversion_clear = orders_temp.groupby('group').agg({'transactionid':'count', 'visitorid':'nunique'}).reset_index()\n",
    "conversion_clear.columns = ['group', 'orders_clear', 'visitors_clear']\n",
    "\n",
    "conversion_clear['conversion_clear'] = conversion_clear['orders_clear'] / conversion_clear['visitors_clear']\n",
    "\n",
    "# Посчитаем относительное различие в среднем количестве заказов на посетителя между группами по «очищенным» данным между группами по \"очищенным\" данным\n",
    "conversion_clear_A = conversion_clear.loc[conversion_clear['group'] == 'A', 'conversion_clear'].values[0]\n",
    "conversion_clear_B = conversion_clear.loc[conversion_clear['group'] == 'B', 'conversion_clear'].values[0]\n",
    "relative_difference_clear = (conversion_clear_B / conversion_clear_A - 1) * 100\n",
    "print(\"Относительное различие в среднем количестве заказов на посетителя между группами по «очищенным» данным между группами (по очищенным данным): {:.2f}%\".format(relative_difference_clear))\n"
   ]
  },
  {
   "cell_type": "markdown",
   "metadata": {},
   "source": [
    "<div class=\"alert alert-block alert-danger\">\n",
    "    \n",
    "**Комментарий от ревьюера 2**\n",
    "\n",
    "Здесь тоже надо поправить формулировку.\n",
    "</div>"
   ]
  },
  {
   "cell_type": "markdown",
   "metadata": {},
   "source": [
    "<div class=\"alert alert-info\"> <b>Комментарий студента:</b> Исправляю"
   ]
  },
  {
   "cell_type": "markdown",
   "metadata": {},
   "source": [
    "<div class=\"alert alert-block alert-success\">\n",
    "    \n",
    "**Комментарий от ревьюера**\n",
    "\n",
    "Верно, при анализе \"очищенных данных\" p-value стало еще меньше и все так же меньше 0.05, следовательно, между группами есть статистически значимые различия.\n",
    "</div>"
   ]
  },
  {
   "cell_type": "markdown",
   "metadata": {},
   "source": [
    "#### Посчитайте статистическую значимость различий в среднем чеке заказа между группами по «очищенным» данным. Сделайте выводы и предположения."
   ]
  },
  {
   "cell_type": "markdown",
   "metadata": {},
   "source": [
    "* alpha: 0.05\n",
    "* Используем критерий Манна-Уитни, так как данные о средних чеках могут не подчиняться нормальному распределению.\n",
    "* H0: Средний чек заказа в группе A (по \"очищенным\" данным) равен среднему чеку заказа в группе B (по \"очищенным\" данным).\n",
    "* H1: Средний чек заказа в группе A (по \"очищенным\" данным) не равен среднему чеку заказа в группе B (по \"очищенным\" данным)."
   ]
  },
  {
   "cell_type": "code",
   "execution_count": 29,
   "metadata": {},
   "outputs": [
    {
     "name": "stdout",
     "output_type": "stream",
     "text": [
      "p-значение:  0.6530319996011142\n",
      "Не получилось отвергнуть нулевую гипотезу: статистически значимые отличия между группами отсутствуют\n"
     ]
    }
   ],
   "source": [
    "orders_clear = orders.query('revenue <= %.2f' % (np.percentile(orders['revenue'], [96])))\n",
    "alpha = 0.05\n",
    "results = st.mannwhitneyu(orders_clear[orders_clear['group']=='A']['revenue'], orders_clear[orders_clear['group']=='B']['revenue'])\n",
    "pvalue = results.pvalue\n",
    "print('p-значение: ', pvalue)\n",
    "if (pvalue < alpha):\n",
    "    print(\"Отвергаем нулевую гипотезу: статистически значимые отличия между группами присутствуют\")\n",
    "else:\n",
    "    print(\"Не получилось отвергнуть нулевую гипотезу: статистически значимые отличия между группами отсутствуют\")"
   ]
  },
  {
   "cell_type": "code",
   "execution_count": 30,
   "metadata": {},
   "outputs": [
    {
     "name": "stdout",
     "output_type": "stream",
     "text": [
      "Относительное различие в среднем чеке между группами (по очищенным данным): 2.81%\n"
     ]
    }
   ],
   "source": [
    "#рассчитаем относительное различие в среднем чеке между группами по \"очищенным\" данным.\n",
    "mean_revenue_clear_A = orders_clear[orders_clear['group'] == 'A']['revenue'].mean()\n",
    "mean_revenue_clear_B = orders_clear[orders_clear['group'] == 'B']['revenue'].mean()\n",
    "relative_difference_revenue_clear = (mean_revenue_clear_B / mean_revenue_clear_A - 1) * 100\n",
    "print(\"Относительное различие в среднем чеке между группами (по очищенным данным): {:.2f}%\".format(relative_difference_revenue_clear))"
   ]
  },
  {
   "cell_type": "markdown",
   "metadata": {},
   "source": [
    "<div class=\"alert alert-block alert-danger\">\n",
    "    \n",
    "**Комментарий от ревьюера**\n",
    "\n",
    "Лучше избегать ручного ввода значений при фильтрации: можно использовать непосредственно результат расчета выбранного перцентиля. \n",
    "\n",
    "</div>"
   ]
  },
  {
   "cell_type": "markdown",
   "metadata": {},
   "source": [
    "<div class=\"alert alert-info\"> <b>Комментарий студента:</b> Исправила выше"
   ]
  },
  {
   "cell_type": "markdown",
   "metadata": {},
   "source": [
    "<div class=\"alert alert-block alert-success\">\n",
    "    \n",
    "**Комментарий от ревьюера 2**\n",
    "\n",
    "Так не придется менять вписанные вручную числа, если поменяются данные.\n",
    "</div>"
   ]
  },
  {
   "cell_type": "markdown",
   "metadata": {},
   "source": [
    "#### Примите решение по результатам теста и объясните его. Варианты решений:\n",
    "1. Остановить тест, зафиксировать победу одной из групп.\n",
    "2. Остановить тест, зафиксировать отсутствие различий между группами.\n",
    "3. Продолжить тест."
   ]
  },
  {
   "cell_type": "markdown",
   "metadata": {},
   "source": [
    "Остановить тест, зафиксировать победу одной из групп. Существует значимое различие в конверсии между группами как по \"сырым\", так и по данным после фильтрации аномалий, при этом конверсия в группе B выше, чем в группе A. Не обнаружено статистически значимого различия в среднем чеке между группами ни по \"сырым\", ни по данным после фильтрации аномалий. Однако средний чек в группе B выше, чем в группе A. На основании этой информации рекомендуется остановить тест и зафиксировать победу группы B, так как ее конверсия значительно превышает конверсию группы A."
   ]
  },
  {
   "cell_type": "markdown",
   "metadata": {},
   "source": [
    "<div class=\"alert alert-block alert-danger\">\n",
    "    \n",
    "**Комментарий от ревьюера 2**\n",
    "\n",
    "Дополни, пожалуйста, вывод: сейчас непонятно, какая группа победила.\n",
    "</div>"
   ]
  },
  {
   "cell_type": "markdown",
   "metadata": {},
   "source": [
    "<div class=\"alert alert-info\"> <b>Комментарий студента:</b> Вывод почему-то не сохранился, добавила выше"
   ]
  },
  {
   "cell_type": "markdown",
   "metadata": {},
   "source": [
    "<div class=\"alert alert-block alert-info\">\n",
    "\n",
    "<b>Итоговый комментарий от ревьюера</b>\n",
    "\n",
    "Благодарю тебя за выполнение проекта. Вижу ты постаралась, когда работала над ним. Однако, в проекте есть несколько замечаний, которые надо исправить:\n",
    "\n",
    "* дополнить вывод по приоритизации;\n",
    "* дополнить оформление графиков;\n",
    "* скорректировать формулировки;\n",
    "* дополнить описание статистических расчетов;\n",
    "* не использовать ручной ввод при фильтрации;\n",
    "* дополнить вывод.\n",
    "       \n",
    "Жду проект после доработки. Уверена, ты справишься. 💪\n",
    "</div>"
   ]
  },
  {
   "cell_type": "markdown",
   "metadata": {},
   "source": [
    "<div class=\"alert alert-block alert-info\">\n",
    "\n",
    "<b>Итоговый комментарий от ревьюера 2</b>\n",
    "\n",
    "Замечания, которые осталось исправить:\n",
    "\n",
    "* скорректировать формулировки;\n",
    "* дополнить вывод.\n",
    "       \n",
    "</div>"
   ]
  }
 ],
 "metadata": {
  "ExecuteTimeLog": [
   {
    "duration": 4,
    "start_time": "2024-04-13T20:35:18.854Z"
   },
   {
    "duration": 2,
    "start_time": "2024-04-13T20:35:21.901Z"
   },
   {
    "duration": 1322,
    "start_time": "2024-04-13T20:36:01.771Z"
   },
   {
    "duration": 3,
    "start_time": "2024-04-13T20:42:55.740Z"
   },
   {
    "duration": 232,
    "start_time": "2024-04-13T20:44:27.460Z"
   },
   {
    "duration": 24,
    "start_time": "2024-04-13T20:45:34.609Z"
   },
   {
    "duration": 3,
    "start_time": "2024-04-13T20:48:49.349Z"
   },
   {
    "duration": 5,
    "start_time": "2024-04-13T20:48:58.009Z"
   },
   {
    "duration": 10,
    "start_time": "2024-04-13T20:50:16.943Z"
   },
   {
    "duration": 21,
    "start_time": "2024-04-13T20:51:19.239Z"
   },
   {
    "duration": 13,
    "start_time": "2024-04-13T20:51:59.332Z"
   },
   {
    "duration": 12,
    "start_time": "2024-04-13T20:55:32.670Z"
   },
   {
    "duration": 13,
    "start_time": "2024-04-13T20:58:54.049Z"
   },
   {
    "duration": 19,
    "start_time": "2024-04-13T20:59:47.873Z"
   },
   {
    "duration": 14,
    "start_time": "2024-04-13T21:00:05.321Z"
   },
   {
    "duration": 15,
    "start_time": "2024-04-13T21:01:18.384Z"
   },
   {
    "duration": 13,
    "start_time": "2024-04-13T21:03:32.303Z"
   },
   {
    "duration": 63,
    "start_time": "2024-04-13T21:09:37.184Z"
   },
   {
    "duration": 421,
    "start_time": "2024-04-13T21:16:21.438Z"
   },
   {
    "duration": 360,
    "start_time": "2024-04-13T21:17:52.136Z"
   },
   {
    "duration": 358,
    "start_time": "2024-04-13T21:20:56.856Z"
   },
   {
    "duration": 113,
    "start_time": "2024-04-13T21:21:54.539Z"
   },
   {
    "duration": 337,
    "start_time": "2024-04-13T21:22:24.049Z"
   },
   {
    "duration": 372,
    "start_time": "2024-04-13T21:25:54.768Z"
   },
   {
    "duration": 316,
    "start_time": "2024-04-13T21:26:00.385Z"
   },
   {
    "duration": 11,
    "start_time": "2024-04-13T21:27:36.236Z"
   },
   {
    "duration": 10,
    "start_time": "2024-04-13T21:27:51.061Z"
   },
   {
    "duration": 14,
    "start_time": "2024-04-13T21:28:27.732Z"
   },
   {
    "duration": 13,
    "start_time": "2024-04-13T21:28:43.587Z"
   },
   {
    "duration": 10,
    "start_time": "2024-04-13T21:29:44.204Z"
   },
   {
    "duration": 237,
    "start_time": "2024-04-13T21:32:31.262Z"
   },
   {
    "duration": 208,
    "start_time": "2024-04-13T21:33:04.940Z"
   },
   {
    "duration": 287,
    "start_time": "2024-04-13T21:33:09.836Z"
   },
   {
    "duration": 205,
    "start_time": "2024-04-13T21:34:09.737Z"
   },
   {
    "duration": 186,
    "start_time": "2024-04-13T21:34:27.663Z"
   },
   {
    "duration": 297,
    "start_time": "2024-04-13T21:34:57.145Z"
   },
   {
    "duration": 274,
    "start_time": "2024-04-13T21:35:22.391Z"
   },
   {
    "duration": 297,
    "start_time": "2024-04-13T21:35:35.159Z"
   },
   {
    "duration": 302,
    "start_time": "2024-04-13T21:35:52.948Z"
   },
   {
    "duration": 71,
    "start_time": "2024-04-13T21:39:07.331Z"
   },
   {
    "duration": 198,
    "start_time": "2024-04-13T21:39:45.102Z"
   },
   {
    "duration": 195,
    "start_time": "2024-04-13T21:40:13.278Z"
   },
   {
    "duration": 201,
    "start_time": "2024-04-13T21:40:33.288Z"
   },
   {
    "duration": 2,
    "start_time": "2024-04-13T21:44:23.255Z"
   },
   {
    "duration": 2,
    "start_time": "2024-04-13T21:45:12.691Z"
   },
   {
    "duration": 3,
    "start_time": "2024-04-13T21:45:28.057Z"
   },
   {
    "duration": 3,
    "start_time": "2024-04-13T21:45:51.941Z"
   },
   {
    "duration": 2,
    "start_time": "2024-04-13T21:46:05.747Z"
   },
   {
    "duration": 2,
    "start_time": "2024-04-13T21:46:25.456Z"
   },
   {
    "duration": 262,
    "start_time": "2024-04-13T21:47:49.895Z"
   },
   {
    "duration": 392,
    "start_time": "2024-04-13T21:48:03.653Z"
   },
   {
    "duration": 307,
    "start_time": "2024-04-13T21:48:16.270Z"
   },
   {
    "duration": 128,
    "start_time": "2024-04-13T22:07:03.159Z"
   },
   {
    "duration": 104,
    "start_time": "2024-04-13T22:07:16.224Z"
   },
   {
    "duration": 5,
    "start_time": "2024-04-13T22:09:17.084Z"
   },
   {
    "duration": 170,
    "start_time": "2024-04-13T22:11:12.722Z"
   },
   {
    "duration": 166,
    "start_time": "2024-04-13T22:11:17.692Z"
   },
   {
    "duration": 54,
    "start_time": "2024-04-13T22:11:57.849Z"
   },
   {
    "duration": 6,
    "start_time": "2024-04-13T22:12:15.102Z"
   },
   {
    "duration": 6,
    "start_time": "2024-04-13T22:15:24.488Z"
   },
   {
    "duration": 15,
    "start_time": "2024-04-13T22:17:56.070Z"
   },
   {
    "duration": 8,
    "start_time": "2024-04-13T22:19:01.275Z"
   },
   {
    "duration": 11,
    "start_time": "2024-04-13T22:22:36.013Z"
   },
   {
    "duration": 9,
    "start_time": "2024-04-13T22:23:50.431Z"
   },
   {
    "duration": 12,
    "start_time": "2024-04-13T22:24:45.651Z"
   },
   {
    "duration": 6,
    "start_time": "2024-04-13T22:28:04.541Z"
   },
   {
    "duration": 6,
    "start_time": "2024-04-13T22:28:46.507Z"
   },
   {
    "duration": 5,
    "start_time": "2024-04-13T22:29:06.519Z"
   },
   {
    "duration": 5,
    "start_time": "2024-04-13T22:29:34.493Z"
   },
   {
    "duration": 4,
    "start_time": "2024-04-13T22:29:38.236Z"
   },
   {
    "duration": 15,
    "start_time": "2024-04-13T22:29:50.959Z"
   },
   {
    "duration": 6,
    "start_time": "2024-04-13T22:31:08.012Z"
   },
   {
    "duration": 10,
    "start_time": "2024-04-13T22:31:31.783Z"
   },
   {
    "duration": 12,
    "start_time": "2024-04-13T22:31:55.170Z"
   },
   {
    "duration": 11,
    "start_time": "2024-04-13T22:32:34.835Z"
   },
   {
    "duration": 11,
    "start_time": "2024-04-13T22:33:30.991Z"
   },
   {
    "duration": 10,
    "start_time": "2024-04-13T22:33:57.599Z"
   },
   {
    "duration": 1144,
    "start_time": "2024-04-13T22:42:11.303Z"
   },
   {
    "duration": 76,
    "start_time": "2024-04-13T22:42:12.449Z"
   },
   {
    "duration": 23,
    "start_time": "2024-04-13T22:42:12.527Z"
   },
   {
    "duration": 20,
    "start_time": "2024-04-13T22:42:12.553Z"
   },
   {
    "duration": 30,
    "start_time": "2024-04-13T22:42:12.574Z"
   },
   {
    "duration": 33,
    "start_time": "2024-04-13T22:42:12.606Z"
   },
   {
    "duration": 346,
    "start_time": "2024-04-13T22:42:12.641Z"
   },
   {
    "duration": 205,
    "start_time": "2024-04-13T22:42:12.988Z"
   },
   {
    "duration": 308,
    "start_time": "2024-04-13T22:42:13.195Z"
   },
   {
    "duration": 202,
    "start_time": "2024-04-13T22:42:13.506Z"
   },
   {
    "duration": 258,
    "start_time": "2024-04-13T22:42:13.709Z"
   },
   {
    "duration": 109,
    "start_time": "2024-04-13T22:42:13.969Z"
   },
   {
    "duration": 5,
    "start_time": "2024-04-13T22:42:14.080Z"
   },
   {
    "duration": 14,
    "start_time": "2024-04-13T22:42:14.087Z"
   },
   {
    "duration": 127,
    "start_time": "2024-04-13T22:42:14.102Z"
   },
   {
    "duration": 6,
    "start_time": "2024-04-13T22:42:14.230Z"
   },
   {
    "duration": 25,
    "start_time": "2024-04-13T22:42:14.237Z"
   },
   {
    "duration": 30,
    "start_time": "2024-04-13T22:42:14.263Z"
   },
   {
    "duration": 76,
    "start_time": "2024-04-13T22:42:14.295Z"
   },
   {
    "duration": 18,
    "start_time": "2024-04-13T22:42:14.372Z"
   },
   {
    "duration": 21,
    "start_time": "2024-04-13T22:42:14.392Z"
   },
   {
    "duration": 41,
    "start_time": "2024-04-13T22:42:14.415Z"
   },
   {
    "duration": 1201,
    "start_time": "2024-04-14T00:47:27.947Z"
   },
   {
    "duration": 231,
    "start_time": "2024-04-14T00:47:29.150Z"
   },
   {
    "duration": 24,
    "start_time": "2024-04-14T00:47:29.383Z"
   },
   {
    "duration": 31,
    "start_time": "2024-04-14T00:47:29.409Z"
   },
   {
    "duration": 21,
    "start_time": "2024-04-14T00:47:29.442Z"
   },
   {
    "duration": 12,
    "start_time": "2024-04-14T00:47:29.464Z"
   },
   {
    "duration": 310,
    "start_time": "2024-04-14T00:47:29.477Z"
   },
   {
    "duration": 238,
    "start_time": "2024-04-14T00:47:29.789Z"
   },
   {
    "duration": 341,
    "start_time": "2024-04-14T00:47:30.029Z"
   },
   {
    "duration": 230,
    "start_time": "2024-04-14T00:47:30.373Z"
   },
   {
    "duration": 282,
    "start_time": "2024-04-14T00:47:30.605Z"
   },
   {
    "duration": 115,
    "start_time": "2024-04-14T00:47:30.889Z"
   },
   {
    "duration": 6,
    "start_time": "2024-04-14T00:47:31.006Z"
   },
   {
    "duration": 49,
    "start_time": "2024-04-14T00:47:31.014Z"
   },
   {
    "duration": 157,
    "start_time": "2024-04-14T00:47:31.064Z"
   },
   {
    "duration": 6,
    "start_time": "2024-04-14T00:47:31.223Z"
   },
   {
    "duration": 48,
    "start_time": "2024-04-14T00:47:31.230Z"
   },
   {
    "duration": 51,
    "start_time": "2024-04-14T00:47:31.279Z"
   },
   {
    "duration": 83,
    "start_time": "2024-04-14T00:47:31.331Z"
   },
   {
    "duration": 23,
    "start_time": "2024-04-14T00:47:31.416Z"
   },
   {
    "duration": 28,
    "start_time": "2024-04-14T00:47:31.440Z"
   },
   {
    "duration": 46,
    "start_time": "2024-04-14T00:47:31.470Z"
   },
   {
    "duration": 56,
    "start_time": "2024-04-14T09:42:03.920Z"
   },
   {
    "duration": 69,
    "start_time": "2024-04-14T10:46:28.871Z"
   },
   {
    "duration": 40,
    "start_time": "2024-04-14T10:47:52.094Z"
   },
   {
    "duration": 1297,
    "start_time": "2024-04-14T10:48:03.340Z"
   },
   {
    "duration": 236,
    "start_time": "2024-04-14T10:48:04.639Z"
   },
   {
    "duration": 21,
    "start_time": "2024-04-14T10:48:04.877Z"
   },
   {
    "duration": 14,
    "start_time": "2024-04-14T10:48:04.900Z"
   },
   {
    "duration": 107,
    "start_time": "2024-04-14T10:48:04.915Z"
   },
   {
    "duration": 0,
    "start_time": "2024-04-14T10:48:05.024Z"
   },
   {
    "duration": 0,
    "start_time": "2024-04-14T10:48:05.025Z"
   },
   {
    "duration": 0,
    "start_time": "2024-04-14T10:48:05.026Z"
   },
   {
    "duration": 0,
    "start_time": "2024-04-14T10:48:05.027Z"
   },
   {
    "duration": 0,
    "start_time": "2024-04-14T10:48:05.028Z"
   },
   {
    "duration": 0,
    "start_time": "2024-04-14T10:48:05.029Z"
   },
   {
    "duration": 0,
    "start_time": "2024-04-14T10:48:05.030Z"
   },
   {
    "duration": 0,
    "start_time": "2024-04-14T10:48:05.031Z"
   },
   {
    "duration": 0,
    "start_time": "2024-04-14T10:48:05.032Z"
   },
   {
    "duration": 0,
    "start_time": "2024-04-14T10:48:05.044Z"
   },
   {
    "duration": 0,
    "start_time": "2024-04-14T10:48:05.045Z"
   },
   {
    "duration": 0,
    "start_time": "2024-04-14T10:48:05.045Z"
   },
   {
    "duration": 0,
    "start_time": "2024-04-14T10:48:05.049Z"
   },
   {
    "duration": 0,
    "start_time": "2024-04-14T10:48:05.049Z"
   },
   {
    "duration": 0,
    "start_time": "2024-04-14T10:48:05.050Z"
   },
   {
    "duration": 0,
    "start_time": "2024-04-14T10:48:05.051Z"
   },
   {
    "duration": 0,
    "start_time": "2024-04-14T10:48:05.052Z"
   },
   {
    "duration": 0,
    "start_time": "2024-04-14T10:48:05.053Z"
   },
   {
    "duration": 9,
    "start_time": "2024-04-14T10:48:25.923Z"
   },
   {
    "duration": 8,
    "start_time": "2024-04-14T10:49:29.393Z"
   },
   {
    "duration": 14,
    "start_time": "2024-04-14T10:52:10.147Z"
   },
   {
    "duration": 14,
    "start_time": "2024-04-14T10:52:24.059Z"
   },
   {
    "duration": 19,
    "start_time": "2024-04-14T10:52:38.141Z"
   },
   {
    "duration": 12,
    "start_time": "2024-04-14T10:53:25.498Z"
   },
   {
    "duration": 307,
    "start_time": "2024-04-14T10:59:17.553Z"
   },
   {
    "duration": 212,
    "start_time": "2024-04-14T10:59:24.555Z"
   },
   {
    "duration": 225,
    "start_time": "2024-04-14T10:59:45.944Z"
   },
   {
    "duration": 14,
    "start_time": "2024-04-14T11:07:57.900Z"
   },
   {
    "duration": 1051,
    "start_time": "2024-04-14T11:08:24.803Z"
   },
   {
    "duration": 77,
    "start_time": "2024-04-14T11:08:25.859Z"
   },
   {
    "duration": 29,
    "start_time": "2024-04-14T11:08:25.937Z"
   },
   {
    "duration": 13,
    "start_time": "2024-04-14T11:08:25.968Z"
   },
   {
    "duration": 12,
    "start_time": "2024-04-14T11:08:25.983Z"
   },
   {
    "duration": 2,
    "start_time": "2024-04-14T11:08:25.997Z"
   },
   {
    "duration": 17,
    "start_time": "2024-04-14T11:08:26.000Z"
   },
   {
    "duration": 15,
    "start_time": "2024-04-14T11:08:26.018Z"
   },
   {
    "duration": 312,
    "start_time": "2024-04-14T11:08:26.045Z"
   },
   {
    "duration": 171,
    "start_time": "2024-04-14T11:08:26.360Z"
   },
   {
    "duration": 300,
    "start_time": "2024-04-14T11:08:26.532Z"
   },
   {
    "duration": 207,
    "start_time": "2024-04-14T11:08:26.833Z"
   },
   {
    "duration": 319,
    "start_time": "2024-04-14T11:08:27.041Z"
   },
   {
    "duration": 109,
    "start_time": "2024-04-14T11:08:27.361Z"
   },
   {
    "duration": 5,
    "start_time": "2024-04-14T11:08:27.471Z"
   },
   {
    "duration": 6,
    "start_time": "2024-04-14T11:08:27.478Z"
   },
   {
    "duration": 127,
    "start_time": "2024-04-14T11:08:27.485Z"
   },
   {
    "duration": 6,
    "start_time": "2024-04-14T11:08:27.613Z"
   },
   {
    "duration": 9,
    "start_time": "2024-04-14T11:08:27.620Z"
   },
   {
    "duration": 34,
    "start_time": "2024-04-14T11:08:27.631Z"
   },
   {
    "duration": 86,
    "start_time": "2024-04-14T11:08:27.666Z"
   },
   {
    "duration": 18,
    "start_time": "2024-04-14T11:08:27.753Z"
   },
   {
    "duration": 13,
    "start_time": "2024-04-14T11:08:27.773Z"
   },
   {
    "duration": 17,
    "start_time": "2024-04-14T11:08:27.788Z"
   },
   {
    "duration": 98,
    "start_time": "2024-04-14T11:10:04.091Z"
   },
   {
    "duration": 1094,
    "start_time": "2024-04-14T11:10:24.757Z"
   },
   {
    "duration": 96,
    "start_time": "2024-04-14T11:10:25.858Z"
   },
   {
    "duration": 26,
    "start_time": "2024-04-14T11:10:25.956Z"
   },
   {
    "duration": 13,
    "start_time": "2024-04-14T11:10:25.984Z"
   },
   {
    "duration": 11,
    "start_time": "2024-04-14T11:10:25.999Z"
   },
   {
    "duration": 2,
    "start_time": "2024-04-14T11:10:26.011Z"
   },
   {
    "duration": 38,
    "start_time": "2024-04-14T11:10:26.015Z"
   },
   {
    "duration": 19,
    "start_time": "2024-04-14T11:10:26.054Z"
   },
   {
    "duration": 322,
    "start_time": "2024-04-14T11:10:26.074Z"
   },
   {
    "duration": 219,
    "start_time": "2024-04-14T11:10:26.398Z"
   },
   {
    "duration": 381,
    "start_time": "2024-04-14T11:10:26.619Z"
   },
   {
    "duration": 227,
    "start_time": "2024-04-14T11:10:27.002Z"
   },
   {
    "duration": 350,
    "start_time": "2024-04-14T11:10:27.231Z"
   },
   {
    "duration": 119,
    "start_time": "2024-04-14T11:10:27.583Z"
   },
   {
    "duration": 6,
    "start_time": "2024-04-14T11:10:27.705Z"
   },
   {
    "duration": 8,
    "start_time": "2024-04-14T11:10:27.712Z"
   },
   {
    "duration": 146,
    "start_time": "2024-04-14T11:10:27.721Z"
   },
   {
    "duration": 5,
    "start_time": "2024-04-14T11:10:27.869Z"
   },
   {
    "duration": 13,
    "start_time": "2024-04-14T11:10:27.876Z"
   },
   {
    "duration": 16,
    "start_time": "2024-04-14T11:10:27.891Z"
   },
   {
    "duration": 91,
    "start_time": "2024-04-14T11:10:27.909Z"
   },
   {
    "duration": 19,
    "start_time": "2024-04-14T11:10:28.001Z"
   },
   {
    "duration": 25,
    "start_time": "2024-04-14T11:10:28.022Z"
   },
   {
    "duration": 11,
    "start_time": "2024-04-14T11:10:28.055Z"
   },
   {
    "duration": 1093,
    "start_time": "2024-04-14T11:11:19.871Z"
   },
   {
    "duration": 81,
    "start_time": "2024-04-14T11:11:24.585Z"
   },
   {
    "duration": 27,
    "start_time": "2024-04-14T11:11:26.335Z"
   },
   {
    "duration": 13,
    "start_time": "2024-04-14T11:11:28.820Z"
   },
   {
    "duration": 10,
    "start_time": "2024-04-14T11:11:31.359Z"
   },
   {
    "duration": 13,
    "start_time": "2024-04-14T11:11:35.599Z"
   },
   {
    "duration": 14,
    "start_time": "2024-04-14T11:11:38.779Z"
   },
   {
    "duration": 342,
    "start_time": "2024-04-14T11:11:42.918Z"
   },
   {
    "duration": 210,
    "start_time": "2024-04-14T11:11:47.162Z"
   },
   {
    "duration": 193,
    "start_time": "2024-04-14T11:12:06.531Z"
   },
   {
    "duration": 316,
    "start_time": "2024-04-14T11:12:13.830Z"
   },
   {
    "duration": 304,
    "start_time": "2024-04-14T11:12:49.471Z"
   },
   {
    "duration": 325,
    "start_time": "2024-04-14T11:14:12.247Z"
   },
   {
    "duration": 206,
    "start_time": "2024-04-14T11:15:15.388Z"
   },
   {
    "duration": 382,
    "start_time": "2024-04-14T11:15:30.613Z"
   },
   {
    "duration": 217,
    "start_time": "2024-04-14T11:15:47.055Z"
   },
   {
    "duration": 224,
    "start_time": "2024-04-14T11:15:56.046Z"
   },
   {
    "duration": 226,
    "start_time": "2024-04-14T11:17:43.355Z"
   },
   {
    "duration": 291,
    "start_time": "2024-04-14T11:21:11.465Z"
   },
   {
    "duration": 291,
    "start_time": "2024-04-14T11:21:27.302Z"
   },
   {
    "duration": 208,
    "start_time": "2024-04-14T11:27:02.055Z"
   },
   {
    "duration": 308,
    "start_time": "2024-04-14T11:29:27.803Z"
   },
   {
    "duration": 298,
    "start_time": "2024-04-14T11:31:17.811Z"
   },
   {
    "duration": 332,
    "start_time": "2024-04-14T11:31:42.044Z"
   },
   {
    "duration": 102,
    "start_time": "2024-04-14T11:32:24.871Z"
   },
   {
    "duration": 199,
    "start_time": "2024-04-14T11:32:57.405Z"
   },
   {
    "duration": 142,
    "start_time": "2024-04-14T11:37:12.990Z"
   },
   {
    "duration": 8,
    "start_time": "2024-04-14T11:38:53.670Z"
   },
   {
    "duration": 6,
    "start_time": "2024-04-14T11:38:55.265Z"
   },
   {
    "duration": 5,
    "start_time": "2024-04-14T11:39:50.089Z"
   },
   {
    "duration": 143,
    "start_time": "2024-04-14T11:40:04.538Z"
   },
   {
    "duration": 157,
    "start_time": "2024-04-14T11:42:53.379Z"
   },
   {
    "duration": 139,
    "start_time": "2024-04-14T11:43:17.398Z"
   },
   {
    "duration": 139,
    "start_time": "2024-04-14T11:44:19.696Z"
   },
   {
    "duration": 138,
    "start_time": "2024-04-14T11:44:52.569Z"
   },
   {
    "duration": 5,
    "start_time": "2024-04-14T11:44:57.961Z"
   },
   {
    "duration": 5,
    "start_time": "2024-04-14T11:44:59.469Z"
   },
   {
    "duration": 66,
    "start_time": "2024-04-14T11:45:56.998Z"
   },
   {
    "duration": 70,
    "start_time": "2024-04-14T11:51:15.882Z"
   },
   {
    "duration": 11,
    "start_time": "2024-04-14T11:51:46.128Z"
   },
   {
    "duration": 18,
    "start_time": "2024-04-14T11:52:01.640Z"
   },
   {
    "duration": 10,
    "start_time": "2024-04-14T12:01:18.995Z"
   },
   {
    "duration": 16,
    "start_time": "2024-04-14T12:01:31.413Z"
   },
   {
    "duration": 7,
    "start_time": "2024-04-14T12:01:33.328Z"
   },
   {
    "duration": 9,
    "start_time": "2024-04-14T12:01:36.027Z"
   },
   {
    "duration": 14,
    "start_time": "2024-04-14T12:01:38.336Z"
   },
   {
    "duration": 11,
    "start_time": "2024-04-14T12:01:41.611Z"
   },
   {
    "duration": 7,
    "start_time": "2024-04-14T12:06:43.131Z"
   },
   {
    "duration": 7,
    "start_time": "2024-04-14T12:06:51.219Z"
   },
   {
    "duration": 7,
    "start_time": "2024-04-14T12:07:04.238Z"
   },
   {
    "duration": 8,
    "start_time": "2024-04-14T12:08:53.008Z"
   },
   {
    "duration": 13,
    "start_time": "2024-04-14T12:09:52.745Z"
   },
   {
    "duration": 9,
    "start_time": "2024-04-14T12:10:14.614Z"
   },
   {
    "duration": 8,
    "start_time": "2024-04-14T12:11:20.363Z"
   },
   {
    "duration": 14,
    "start_time": "2024-04-14T12:12:28.501Z"
   },
   {
    "duration": 11,
    "start_time": "2024-04-14T12:13:14.203Z"
   },
   {
    "duration": 52,
    "start_time": "2024-04-14T12:14:19.670Z"
   },
   {
    "duration": 5,
    "start_time": "2024-04-14T12:19:32.911Z"
   },
   {
    "duration": 4,
    "start_time": "2024-04-14T12:21:35.435Z"
   },
   {
    "duration": 5,
    "start_time": "2024-04-14T12:21:57.025Z"
   },
   {
    "duration": 5,
    "start_time": "2024-04-14T12:22:14.325Z"
   },
   {
    "duration": 6,
    "start_time": "2024-04-14T12:22:37.434Z"
   },
   {
    "duration": 922,
    "start_time": "2024-04-14T12:23:04.968Z"
   },
   {
    "duration": 1044,
    "start_time": "2024-04-14T12:23:25.911Z"
   },
   {
    "duration": 81,
    "start_time": "2024-04-14T12:23:26.956Z"
   },
   {
    "duration": 28,
    "start_time": "2024-04-14T12:23:27.038Z"
   },
   {
    "duration": 14,
    "start_time": "2024-04-14T12:23:27.069Z"
   },
   {
    "duration": 9,
    "start_time": "2024-04-14T12:23:27.084Z"
   },
   {
    "duration": 2,
    "start_time": "2024-04-14T12:23:27.095Z"
   },
   {
    "duration": 13,
    "start_time": "2024-04-14T12:23:27.098Z"
   },
   {
    "duration": 49,
    "start_time": "2024-04-14T12:23:27.113Z"
   },
   {
    "duration": 349,
    "start_time": "2024-04-14T12:23:27.167Z"
   },
   {
    "duration": 204,
    "start_time": "2024-04-14T12:23:27.520Z"
   },
   {
    "duration": 342,
    "start_time": "2024-04-14T12:23:27.726Z"
   },
   {
    "duration": 221,
    "start_time": "2024-04-14T12:23:28.069Z"
   },
   {
    "duration": 316,
    "start_time": "2024-04-14T12:23:28.292Z"
   },
   {
    "duration": 165,
    "start_time": "2024-04-14T12:23:28.610Z"
   },
   {
    "duration": 6,
    "start_time": "2024-04-14T12:23:28.777Z"
   },
   {
    "duration": 9,
    "start_time": "2024-04-14T12:23:28.784Z"
   },
   {
    "duration": 10,
    "start_time": "2024-04-14T12:23:28.794Z"
   },
   {
    "duration": 160,
    "start_time": "2024-04-14T12:23:28.805Z"
   },
   {
    "duration": 211,
    "start_time": "2024-04-14T12:23:28.968Z"
   },
   {
    "duration": 5,
    "start_time": "2024-04-14T12:23:29.180Z"
   },
   {
    "duration": 10,
    "start_time": "2024-04-14T12:23:29.187Z"
   },
   {
    "duration": 14,
    "start_time": "2024-04-14T12:23:29.198Z"
   },
   {
    "duration": 6,
    "start_time": "2024-04-14T12:23:29.213Z"
   },
   {
    "duration": 44,
    "start_time": "2024-04-14T12:23:29.221Z"
   },
   {
    "duration": 14,
    "start_time": "2024-04-14T12:23:29.267Z"
   },
   {
    "duration": 5,
    "start_time": "2024-04-14T12:23:29.282Z"
   },
   {
    "duration": 11,
    "start_time": "2024-04-14T12:23:29.289Z"
   },
   {
    "duration": 1399,
    "start_time": "2024-04-14T12:23:29.303Z"
   },
   {
    "duration": 0,
    "start_time": "2024-04-14T12:23:30.704Z"
   },
   {
    "duration": 20,
    "start_time": "2024-04-14T12:25:22.454Z"
   },
   {
    "duration": 23,
    "start_time": "2024-04-14T12:25:33.650Z"
   },
   {
    "duration": 7,
    "start_time": "2024-04-14T12:25:35.803Z"
   },
   {
    "duration": 23,
    "start_time": "2024-04-14T12:27:31.103Z"
   },
   {
    "duration": 61,
    "start_time": "2024-04-14T12:27:53.670Z"
   },
   {
    "duration": 13,
    "start_time": "2024-04-14T12:28:11.957Z"
   },
   {
    "duration": 9,
    "start_time": "2024-04-14T12:28:13.921Z"
   },
   {
    "duration": 6,
    "start_time": "2024-04-14T12:29:01.971Z"
   },
   {
    "duration": 1076,
    "start_time": "2024-04-14T12:29:24.578Z"
   },
   {
    "duration": 80,
    "start_time": "2024-04-14T12:29:25.663Z"
   },
   {
    "duration": 32,
    "start_time": "2024-04-14T12:29:25.744Z"
   },
   {
    "duration": 13,
    "start_time": "2024-04-14T12:29:25.777Z"
   },
   {
    "duration": 8,
    "start_time": "2024-04-14T12:29:25.792Z"
   },
   {
    "duration": 7,
    "start_time": "2024-04-14T12:29:25.802Z"
   },
   {
    "duration": 21,
    "start_time": "2024-04-14T12:29:25.810Z"
   },
   {
    "duration": 31,
    "start_time": "2024-04-14T12:29:25.832Z"
   },
   {
    "duration": 313,
    "start_time": "2024-04-14T12:29:25.865Z"
   },
   {
    "duration": 211,
    "start_time": "2024-04-14T12:29:26.181Z"
   },
   {
    "duration": 291,
    "start_time": "2024-04-14T12:29:26.393Z"
   },
   {
    "duration": 226,
    "start_time": "2024-04-14T12:29:26.685Z"
   },
   {
    "duration": 377,
    "start_time": "2024-04-14T12:29:26.913Z"
   },
   {
    "duration": 143,
    "start_time": "2024-04-14T12:29:27.291Z"
   },
   {
    "duration": 4,
    "start_time": "2024-04-14T12:29:27.436Z"
   },
   {
    "duration": 14,
    "start_time": "2024-04-14T12:29:27.447Z"
   },
   {
    "duration": 19,
    "start_time": "2024-04-14T12:29:27.462Z"
   },
   {
    "duration": 175,
    "start_time": "2024-04-14T12:29:27.482Z"
   },
   {
    "duration": 225,
    "start_time": "2024-04-14T12:29:27.660Z"
   },
   {
    "duration": 5,
    "start_time": "2024-04-14T12:29:27.886Z"
   },
   {
    "duration": 9,
    "start_time": "2024-04-14T12:29:27.892Z"
   },
   {
    "duration": 13,
    "start_time": "2024-04-14T12:29:27.903Z"
   },
   {
    "duration": 11,
    "start_time": "2024-04-14T12:29:27.918Z"
   },
   {
    "duration": 18,
    "start_time": "2024-04-14T12:29:27.930Z"
   },
   {
    "duration": 11,
    "start_time": "2024-04-14T12:29:27.951Z"
   },
   {
    "duration": 23,
    "start_time": "2024-04-14T12:29:27.964Z"
   },
   {
    "duration": 16,
    "start_time": "2024-04-14T12:29:27.988Z"
   },
   {
    "duration": 963,
    "start_time": "2024-04-14T12:29:28.006Z"
   },
   {
    "duration": 0,
    "start_time": "2024-04-14T12:29:28.971Z"
   },
   {
    "duration": 0,
    "start_time": "2024-04-14T12:29:28.971Z"
   },
   {
    "duration": 1071,
    "start_time": "2024-04-14T12:29:48.915Z"
   },
   {
    "duration": 85,
    "start_time": "2024-04-14T12:29:49.988Z"
   },
   {
    "duration": 22,
    "start_time": "2024-04-14T12:29:50.075Z"
   },
   {
    "duration": 13,
    "start_time": "2024-04-14T12:29:50.098Z"
   },
   {
    "duration": 16,
    "start_time": "2024-04-14T12:29:50.112Z"
   },
   {
    "duration": 2,
    "start_time": "2024-04-14T12:29:50.130Z"
   },
   {
    "duration": 17,
    "start_time": "2024-04-14T12:29:50.133Z"
   },
   {
    "duration": 25,
    "start_time": "2024-04-14T12:29:50.153Z"
   },
   {
    "duration": 317,
    "start_time": "2024-04-14T12:29:50.184Z"
   },
   {
    "duration": 206,
    "start_time": "2024-04-14T12:29:50.502Z"
   },
   {
    "duration": 306,
    "start_time": "2024-04-14T12:29:50.709Z"
   },
   {
    "duration": 240,
    "start_time": "2024-04-14T12:29:51.016Z"
   },
   {
    "duration": 337,
    "start_time": "2024-04-14T12:29:51.257Z"
   },
   {
    "duration": 164,
    "start_time": "2024-04-14T12:29:51.596Z"
   },
   {
    "duration": 5,
    "start_time": "2024-04-14T12:29:51.762Z"
   },
   {
    "duration": 16,
    "start_time": "2024-04-14T12:29:51.770Z"
   },
   {
    "duration": 22,
    "start_time": "2024-04-14T12:29:51.788Z"
   },
   {
    "duration": 155,
    "start_time": "2024-04-14T12:29:51.811Z"
   },
   {
    "duration": 213,
    "start_time": "2024-04-14T12:29:51.967Z"
   },
   {
    "duration": 5,
    "start_time": "2024-04-14T12:29:52.181Z"
   },
   {
    "duration": 6,
    "start_time": "2024-04-14T12:29:52.188Z"
   },
   {
    "duration": 15,
    "start_time": "2024-04-14T12:29:52.195Z"
   },
   {
    "duration": 10,
    "start_time": "2024-04-14T12:29:52.211Z"
   },
   {
    "duration": 36,
    "start_time": "2024-04-14T12:29:52.222Z"
   },
   {
    "duration": 17,
    "start_time": "2024-04-14T12:29:52.260Z"
   },
   {
    "duration": 9,
    "start_time": "2024-04-14T12:29:52.279Z"
   },
   {
    "duration": 16,
    "start_time": "2024-04-14T12:29:52.289Z"
   },
   {
    "duration": 13,
    "start_time": "2024-04-14T12:29:52.307Z"
   },
   {
    "duration": 14,
    "start_time": "2024-04-14T12:29:52.321Z"
   },
   {
    "duration": 5,
    "start_time": "2024-04-14T12:29:52.336Z"
   },
   {
    "duration": 14,
    "start_time": "2024-04-14T12:38:54.157Z"
   },
   {
    "duration": 7,
    "start_time": "2024-04-14T12:40:35.428Z"
   },
   {
    "duration": 2605,
    "start_time": "2024-04-14T12:43:25.407Z"
   },
   {
    "duration": 128,
    "start_time": "2024-04-14T12:44:29.901Z"
   },
   {
    "duration": 9,
    "start_time": "2024-04-14T12:45:15.263Z"
   },
   {
    "duration": 17,
    "start_time": "2024-04-14T12:47:00.043Z"
   },
   {
    "duration": 16,
    "start_time": "2024-04-14T12:48:01.139Z"
   },
   {
    "duration": 5,
    "start_time": "2024-04-14T12:48:06.871Z"
   },
   {
    "duration": 12,
    "start_time": "2024-04-14T12:50:21.912Z"
   },
   {
    "duration": 2226,
    "start_time": "2024-04-14T12:50:38.137Z"
   },
   {
    "duration": 14,
    "start_time": "2024-04-14T12:50:42.909Z"
   },
   {
    "duration": 14,
    "start_time": "2024-04-14T12:51:10.457Z"
   },
   {
    "duration": 10,
    "start_time": "2024-04-14T12:51:40.738Z"
   },
   {
    "duration": 6,
    "start_time": "2024-04-14T13:03:38.751Z"
   },
   {
    "duration": 4,
    "start_time": "2024-04-14T13:04:06.790Z"
   },
   {
    "duration": 9,
    "start_time": "2024-04-14T13:04:32.705Z"
   },
   {
    "duration": 8,
    "start_time": "2024-04-14T13:07:14.588Z"
   },
   {
    "duration": 3,
    "start_time": "2024-04-14T13:12:22.687Z"
   },
   {
    "duration": 10,
    "start_time": "2024-04-14T13:12:39.679Z"
   },
   {
    "duration": 5,
    "start_time": "2024-04-14T13:14:35.519Z"
   },
   {
    "duration": 5,
    "start_time": "2024-04-14T13:15:06.765Z"
   },
   {
    "duration": 5,
    "start_time": "2024-04-14T13:16:05.755Z"
   },
   {
    "duration": 3,
    "start_time": "2024-04-14T13:16:08.693Z"
   },
   {
    "duration": 5,
    "start_time": "2024-04-14T13:16:55.569Z"
   },
   {
    "duration": 1358,
    "start_time": "2024-04-14T14:36:50.605Z"
   },
   {
    "duration": 250,
    "start_time": "2024-04-14T14:36:51.965Z"
   },
   {
    "duration": 26,
    "start_time": "2024-04-14T14:36:52.217Z"
   },
   {
    "duration": 14,
    "start_time": "2024-04-14T14:36:52.246Z"
   },
   {
    "duration": 12,
    "start_time": "2024-04-14T14:36:52.262Z"
   },
   {
    "duration": 3,
    "start_time": "2024-04-14T14:36:52.276Z"
   },
   {
    "duration": 46,
    "start_time": "2024-04-14T14:36:52.280Z"
   },
   {
    "duration": 13,
    "start_time": "2024-04-14T14:36:52.328Z"
   },
   {
    "duration": 348,
    "start_time": "2024-04-14T14:36:52.343Z"
   },
   {
    "duration": 254,
    "start_time": "2024-04-14T14:36:52.695Z"
   },
   {
    "duration": 377,
    "start_time": "2024-04-14T14:36:52.951Z"
   },
   {
    "duration": 234,
    "start_time": "2024-04-14T14:36:53.330Z"
   },
   {
    "duration": 327,
    "start_time": "2024-04-14T14:36:53.566Z"
   },
   {
    "duration": 152,
    "start_time": "2024-04-14T14:36:53.895Z"
   },
   {
    "duration": 6,
    "start_time": "2024-04-14T14:36:54.048Z"
   },
   {
    "duration": 4,
    "start_time": "2024-04-14T14:36:54.056Z"
   },
   {
    "duration": 16,
    "start_time": "2024-04-14T14:36:54.061Z"
   },
   {
    "duration": 167,
    "start_time": "2024-04-14T14:36:54.079Z"
   },
   {
    "duration": 262,
    "start_time": "2024-04-14T14:36:54.248Z"
   },
   {
    "duration": 5,
    "start_time": "2024-04-14T14:36:54.514Z"
   },
   {
    "duration": 8,
    "start_time": "2024-04-14T14:36:54.521Z"
   },
   {
    "duration": 13,
    "start_time": "2024-04-14T14:36:54.531Z"
   },
   {
    "duration": 6,
    "start_time": "2024-04-14T14:36:54.546Z"
   },
   {
    "duration": 14,
    "start_time": "2024-04-14T14:36:54.554Z"
   },
   {
    "duration": 8,
    "start_time": "2024-04-14T14:36:54.570Z"
   },
   {
    "duration": 35,
    "start_time": "2024-04-14T14:36:54.580Z"
   },
   {
    "duration": 16,
    "start_time": "2024-04-14T14:36:54.617Z"
   },
   {
    "duration": 20,
    "start_time": "2024-04-14T14:36:54.636Z"
   },
   {
    "duration": 15,
    "start_time": "2024-04-14T14:36:54.658Z"
   },
   {
    "duration": 6,
    "start_time": "2024-04-14T14:36:54.674Z"
   },
   {
    "duration": 49,
    "start_time": "2024-04-14T14:52:55.129Z"
   },
   {
    "duration": 9,
    "start_time": "2024-04-14T14:53:42.857Z"
   },
   {
    "duration": 1400,
    "start_time": "2024-04-14T14:53:47.362Z"
   },
   {
    "duration": 237,
    "start_time": "2024-04-14T14:53:48.764Z"
   },
   {
    "duration": 26,
    "start_time": "2024-04-14T14:53:49.002Z"
   },
   {
    "duration": 27,
    "start_time": "2024-04-14T14:53:49.030Z"
   },
   {
    "duration": 15,
    "start_time": "2024-04-14T14:53:49.059Z"
   },
   {
    "duration": 14,
    "start_time": "2024-04-14T14:53:49.076Z"
   },
   {
    "duration": 32,
    "start_time": "2024-04-14T14:53:49.092Z"
   },
   {
    "duration": 28,
    "start_time": "2024-04-14T14:53:49.126Z"
   },
   {
    "duration": 371,
    "start_time": "2024-04-14T14:53:49.156Z"
   },
   {
    "duration": 219,
    "start_time": "2024-04-14T14:53:49.530Z"
   },
   {
    "duration": 360,
    "start_time": "2024-04-14T14:53:49.750Z"
   },
   {
    "duration": 249,
    "start_time": "2024-04-14T14:53:50.112Z"
   },
   {
    "duration": 319,
    "start_time": "2024-04-14T14:53:50.363Z"
   },
   {
    "duration": 160,
    "start_time": "2024-04-14T14:53:50.684Z"
   },
   {
    "duration": 6,
    "start_time": "2024-04-14T14:53:50.845Z"
   },
   {
    "duration": 8,
    "start_time": "2024-04-14T14:53:50.853Z"
   },
   {
    "duration": 5,
    "start_time": "2024-04-14T14:53:50.863Z"
   },
   {
    "duration": 181,
    "start_time": "2024-04-14T14:53:50.870Z"
   },
   {
    "duration": 233,
    "start_time": "2024-04-14T14:53:51.052Z"
   },
   {
    "duration": 5,
    "start_time": "2024-04-14T14:53:51.287Z"
   },
   {
    "duration": 34,
    "start_time": "2024-04-14T14:53:51.294Z"
   },
   {
    "duration": 28,
    "start_time": "2024-04-14T14:53:51.330Z"
   },
   {
    "duration": 8,
    "start_time": "2024-04-14T14:53:51.360Z"
   },
   {
    "duration": 16,
    "start_time": "2024-04-14T14:53:51.369Z"
   },
   {
    "duration": 13,
    "start_time": "2024-04-14T14:53:51.386Z"
   },
   {
    "duration": 7,
    "start_time": "2024-04-14T14:53:51.401Z"
   },
   {
    "duration": 27,
    "start_time": "2024-04-14T14:53:51.410Z"
   },
   {
    "duration": 14,
    "start_time": "2024-04-14T14:53:51.441Z"
   },
   {
    "duration": 18,
    "start_time": "2024-04-14T14:53:51.457Z"
   },
   {
    "duration": 7,
    "start_time": "2024-04-14T14:53:51.477Z"
   },
   {
    "duration": 65,
    "start_time": "2024-04-14T14:55:48.384Z"
   },
   {
    "duration": 1254,
    "start_time": "2024-04-14T14:58:01.801Z"
   },
   {
    "duration": 79,
    "start_time": "2024-04-14T14:58:03.057Z"
   },
   {
    "duration": 34,
    "start_time": "2024-04-14T14:58:03.138Z"
   },
   {
    "duration": 19,
    "start_time": "2024-04-14T14:58:03.175Z"
   },
   {
    "duration": 21,
    "start_time": "2024-04-14T14:58:03.196Z"
   },
   {
    "duration": 2,
    "start_time": "2024-04-14T14:58:03.219Z"
   },
   {
    "duration": 17,
    "start_time": "2024-04-14T14:58:03.223Z"
   },
   {
    "duration": 30,
    "start_time": "2024-04-14T14:58:03.242Z"
   },
   {
    "duration": 363,
    "start_time": "2024-04-14T14:58:03.275Z"
   },
   {
    "duration": 225,
    "start_time": "2024-04-14T14:58:03.642Z"
   },
   {
    "duration": 316,
    "start_time": "2024-04-14T14:58:03.869Z"
   },
   {
    "duration": 278,
    "start_time": "2024-04-14T14:58:04.188Z"
   },
   {
    "duration": 349,
    "start_time": "2024-04-14T14:58:04.467Z"
   },
   {
    "duration": 170,
    "start_time": "2024-04-14T14:58:04.818Z"
   },
   {
    "duration": 6,
    "start_time": "2024-04-14T14:58:04.990Z"
   },
   {
    "duration": 18,
    "start_time": "2024-04-14T14:58:04.997Z"
   },
   {
    "duration": 6,
    "start_time": "2024-04-14T14:58:05.016Z"
   },
   {
    "duration": 166,
    "start_time": "2024-04-14T14:58:05.024Z"
   },
   {
    "duration": 232,
    "start_time": "2024-04-14T14:58:05.191Z"
   },
   {
    "duration": 5,
    "start_time": "2024-04-14T14:58:05.425Z"
   },
   {
    "duration": 7,
    "start_time": "2024-04-14T14:58:05.431Z"
   },
   {
    "duration": 23,
    "start_time": "2024-04-14T14:58:05.439Z"
   },
   {
    "duration": 10,
    "start_time": "2024-04-14T14:58:05.464Z"
   },
   {
    "duration": 8,
    "start_time": "2024-04-14T14:58:05.476Z"
   },
   {
    "duration": 29,
    "start_time": "2024-04-14T14:58:05.486Z"
   },
   {
    "duration": 7,
    "start_time": "2024-04-14T14:58:05.517Z"
   },
   {
    "duration": 16,
    "start_time": "2024-04-14T14:58:05.525Z"
   },
   {
    "duration": 28,
    "start_time": "2024-04-14T14:58:05.544Z"
   },
   {
    "duration": 25,
    "start_time": "2024-04-14T14:58:05.574Z"
   },
   {
    "duration": 7,
    "start_time": "2024-04-14T14:58:05.601Z"
   }
  ],
  "kernelspec": {
   "display_name": "Python 3 (ipykernel)",
   "language": "python",
   "name": "python3"
  },
  "language_info": {
   "codemirror_mode": {
    "name": "ipython",
    "version": 3
   },
   "file_extension": ".py",
   "mimetype": "text/x-python",
   "name": "python",
   "nbconvert_exporter": "python",
   "pygments_lexer": "ipython3",
   "version": "3.9.5"
  },
  "toc": {
   "base_numbering": 1,
   "nav_menu": {},
   "number_sections": true,
   "sideBar": true,
   "skip_h1_title": true,
   "title_cell": "Table of Contents",
   "title_sidebar": "Contents",
   "toc_cell": false,
   "toc_position": {},
   "toc_section_display": true,
   "toc_window_display": false
  }
 },
 "nbformat": 4,
 "nbformat_minor": 2
}
